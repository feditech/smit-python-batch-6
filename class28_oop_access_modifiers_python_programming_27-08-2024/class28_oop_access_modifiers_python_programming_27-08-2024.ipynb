{
 "cells": [
  {
   "cell_type": "code",
   "execution_count": 3,
   "id": "cdb699be-3a53-418d-a0b7-812ce50da6f2",
   "metadata": {},
   "outputs": [],
   "source": [
    "class Car():\n",
    "    wheel=4\n",
    "    def __init__(self):\n",
    "        pass\n",
    "        "
   ]
  },
  {
   "cell_type": "code",
   "execution_count": 7,
   "id": "809c6e4a-acc9-487f-a139-03a655cf788d",
   "metadata": {},
   "outputs": [],
   "source": [
    "c1 = Car()\n",
    "c2 = Car()"
   ]
  },
  {
   "cell_type": "code",
   "execution_count": 8,
   "id": "5157b7ba-3974-47bf-8040-aa2d542e8537",
   "metadata": {},
   "outputs": [
    {
     "data": {
      "text/plain": [
       "(4, 4, 4)"
      ]
     },
     "execution_count": 8,
     "metadata": {},
     "output_type": "execute_result"
    }
   ],
   "source": [
    "Car.wheel , c1.wheel ,c2.wheel"
   ]
  },
  {
   "cell_type": "code",
   "execution_count": 9,
   "id": "f92990aa-f97b-4280-8b7f-08da94f897df",
   "metadata": {},
   "outputs": [],
   "source": [
    "c1.wheel = 6"
   ]
  },
  {
   "cell_type": "code",
   "execution_count": 10,
   "id": "fd643d19-6cd4-43ac-a218-99bdf2b82b5a",
   "metadata": {},
   "outputs": [
    {
     "data": {
      "text/plain": [
       "(4, 6, 4)"
      ]
     },
     "execution_count": 10,
     "metadata": {},
     "output_type": "execute_result"
    }
   ],
   "source": [
    "Car.wheel , c1.wheel ,c2.wheel"
   ]
  },
  {
   "cell_type": "code",
   "execution_count": 12,
   "id": "2995979f-3e4d-4d3a-96d7-f70091e406f1",
   "metadata": {},
   "outputs": [],
   "source": [
    "Car.wheel =10"
   ]
  },
  {
   "cell_type": "code",
   "execution_count": 13,
   "id": "d6a4a42d-555a-4e81-b0bc-5a0b02d8d32b",
   "metadata": {},
   "outputs": [
    {
     "data": {
      "text/plain": [
       "(10, 6, 10)"
      ]
     },
     "execution_count": 13,
     "metadata": {},
     "output_type": "execute_result"
    }
   ],
   "source": [
    "Car.wheel , c1.wheel ,c2.wheel"
   ]
  },
  {
   "cell_type": "code",
   "execution_count": 15,
   "id": "f88594ba-201e-4658-983b-fa1d3b282a1a",
   "metadata": {},
   "outputs": [],
   "source": [
    "del c1.wheel"
   ]
  },
  {
   "cell_type": "code",
   "execution_count": 16,
   "id": "f1bcac9b-2f6c-490f-9cc6-c4f2160d5a59",
   "metadata": {},
   "outputs": [
    {
     "data": {
      "text/plain": [
       "(10, 10, 10)"
      ]
     },
     "execution_count": 16,
     "metadata": {},
     "output_type": "execute_result"
    }
   ],
   "source": [
    "Car.wheel , c1.wheel ,c2.wheel"
   ]
  },
  {
   "cell_type": "code",
   "execution_count": null,
   "id": "68f7c437-f602-4cd3-a7c5-8f5a982c8f9c",
   "metadata": {},
   "outputs": [],
   "source": []
  },
  {
   "cell_type": "code",
   "execution_count": null,
   "id": "5e17c35f-f39f-4374-9c9e-401895b817b3",
   "metadata": {},
   "outputs": [],
   "source": []
  },
  {
   "cell_type": "code",
   "execution_count": null,
   "id": "041aa912-77c0-43af-a37b-c089731f0efe",
   "metadata": {},
   "outputs": [],
   "source": []
  },
  {
   "cell_type": "code",
   "execution_count": null,
   "id": "2193aa2c-0b7e-46d5-af93-d285f467a3d0",
   "metadata": {},
   "outputs": [],
   "source": []
  }
 ],
 "metadata": {
  "kernelspec": {
   "display_name": "Python 3 (ipykernel)",
   "language": "python",
   "name": "python3"
  },
  "language_info": {
   "codemirror_mode": {
    "name": "ipython",
    "version": 3
   },
   "file_extension": ".py",
   "mimetype": "text/x-python",
   "name": "python",
   "nbconvert_exporter": "python",
   "pygments_lexer": "ipython3",
   "version": "3.11.7"
  }
 },
 "nbformat": 4,
 "nbformat_minor": 5
}
