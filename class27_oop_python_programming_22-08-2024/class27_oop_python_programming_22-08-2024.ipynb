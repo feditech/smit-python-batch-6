{
 "cells": [
  {
   "cell_type": "markdown",
   "id": "9058f981-78ba-413e-a177-595d16932b97",
   "metadata": {},
   "source": [
    "# OOP"
   ]
  },
  {
   "cell_type": "code",
   "execution_count": 2,
   "id": "86e426d5-32fc-4d32-8c43-f0b71b1f1d41",
   "metadata": {},
   "outputs": [],
   "source": [
    "class Student():\n",
    "    def __init__(self,rollNo,name,course,days=[]):\n",
    "        self.rollNo = rollNo\n",
    "        self.name = name\n",
    "        self.course =course\n",
    "        self.days = days\n",
    "    def attend_class(self):\n",
    "        return f\"{self.name} is attending {self.course} class.\""
   ]
  },
  {
   "cell_type": "code",
   "execution_count": 3,
   "id": "1d7a2d87-3d9b-440a-8131-4fe021867a90",
   "metadata": {},
   "outputs": [],
   "source": [
    "s1 = Student(1,\"Raza\",\"C++\",[\"Monday\",\"Sunday\"])"
   ]
  },
  {
   "cell_type": "code",
   "execution_count": 4,
   "id": "6969e1a4-1992-48b0-b2bf-765a3e7624e9",
   "metadata": {},
   "outputs": [
    {
     "data": {
      "text/plain": [
       "'Raza is attending C++ class.'"
      ]
     },
     "execution_count": 4,
     "metadata": {},
     "output_type": "execute_result"
    }
   ],
   "source": [
    "s1.attend_class()"
   ]
  },
  {
   "cell_type": "markdown",
   "id": "03ce1e4c-cb51-42e3-b462-4ac328539aa8",
   "metadata": {},
   "source": [
    "# Encapsulation"
   ]
  },
  {
   "cell_type": "code",
   "execution_count": 6,
   "id": "0dc82736-c7f3-4841-b446-bd18baccd68a",
   "metadata": {},
   "outputs": [],
   "source": [
    "class Student():\n",
    "    def __init__(self,rollNo,name,course,days=[]):\n",
    "        self.rollNo = rollNo\n",
    "        self.name = name\n",
    "        self.course =course\n",
    "        self.days = days\n",
    "    def attend_class(self):\n",
    "        return f\"{self.name} is attending {self.course} class.\"\n",
    "    def get_name(self):\n",
    "        return self.name\n",
    "    def set_name(self,new_name):\n",
    "        if len(new_name) == 0:\n",
    "            print(\"Invalid Name\")\n",
    "        else:\n",
    "            self.name = new_name\n",
    "        "
   ]
  },
  {
   "cell_type": "code",
   "execution_count": 7,
   "id": "e8ae8166-acfc-41dc-a44f-e7fa3d313a74",
   "metadata": {},
   "outputs": [],
   "source": [
    "s2 = Student(1,\"Raza\",\"C++\",[\"Monday\",\"Sunday\"])"
   ]
  },
  {
   "cell_type": "code",
   "execution_count": 8,
   "id": "92d57b20-71c5-4f60-a884-e8370e27f2e9",
   "metadata": {},
   "outputs": [
    {
     "data": {
      "text/plain": [
       "'Raza'"
      ]
     },
     "execution_count": 8,
     "metadata": {},
     "output_type": "execute_result"
    }
   ],
   "source": [
    "s2.get_name()"
   ]
  },
  {
   "cell_type": "code",
   "execution_count": 9,
   "id": "5884567e-3ae6-4538-8fb7-d0d2d4be3724",
   "metadata": {},
   "outputs": [
    {
     "name": "stdout",
     "output_type": "stream",
     "text": [
      "Invalid Name\n"
     ]
    }
   ],
   "source": [
    "s2.set_name(\"\")"
   ]
  },
  {
   "cell_type": "code",
   "execution_count": 10,
   "id": "1002c007-a4d6-41b9-95e7-1920778a385d",
   "metadata": {},
   "outputs": [],
   "source": [
    "s2.set_name(\"Ahmed\")"
   ]
  },
  {
   "cell_type": "code",
   "execution_count": 11,
   "id": "eb1a6383-602f-473c-bc77-7b3a98a3e88c",
   "metadata": {},
   "outputs": [
    {
     "data": {
      "text/plain": [
       "'Ahmed'"
      ]
     },
     "execution_count": 11,
     "metadata": {},
     "output_type": "execute_result"
    }
   ],
   "source": [
    "s2.get_name()"
   ]
  },
  {
   "cell_type": "code",
   "execution_count": null,
   "id": "fbbc82dc-9556-463d-ba3c-724840eb425d",
   "metadata": {},
   "outputs": [],
   "source": []
  },
  {
   "cell_type": "raw",
   "id": "75fdc3e5-92b7-487a-a815-d56e9e116bd1",
   "metadata": {},
   "source": [
    "s2.attend_class()"
   ]
  },
  {
   "cell_type": "markdown",
   "id": "45cd780e-ed8a-4fd1-a3ce-e24beb5ba698",
   "metadata": {},
   "source": [
    "# Inheritance"
   ]
  },
  {
   "cell_type": "code",
   "execution_count": null,
   "id": "86f3c73d-0f0a-4466-801a-091e4e9e41ce",
   "metadata": {},
   "outputs": [],
   "source": [
    "class Human():\n",
    "    "
   ]
  },
  {
   "cell_type": "code",
   "execution_count": null,
   "id": "80369d45-90d4-4936-8582-1ea90a8e9afa",
   "metadata": {},
   "outputs": [],
   "source": []
  },
  {
   "cell_type": "code",
   "execution_count": null,
   "id": "5a0965e6-f12c-490b-be8e-f7133a81612c",
   "metadata": {},
   "outputs": [],
   "source": []
  },
  {
   "cell_type": "code",
   "execution_count": null,
   "id": "346fa72f-a8f4-4ed4-abba-d88ed68980d9",
   "metadata": {},
   "outputs": [],
   "source": []
  },
  {
   "cell_type": "code",
   "execution_count": null,
   "id": "8f509072-a491-4d29-ab07-299d112a0bd5",
   "metadata": {},
   "outputs": [],
   "source": []
  },
  {
   "cell_type": "code",
   "execution_count": null,
   "id": "b313d140-d0c9-4a13-95a2-a13560a49618",
   "metadata": {},
   "outputs": [],
   "source": []
  }
 ],
 "metadata": {
  "kernelspec": {
   "display_name": "Python 3 (ipykernel)",
   "language": "python",
   "name": "python3"
  },
  "language_info": {
   "codemirror_mode": {
    "name": "ipython",
    "version": 3
   },
   "file_extension": ".py",
   "mimetype": "text/x-python",
   "name": "python",
   "nbconvert_exporter": "python",
   "pygments_lexer": "ipython3",
   "version": "3.11.7"
  }
 },
 "nbformat": 4,
 "nbformat_minor": 5
}
