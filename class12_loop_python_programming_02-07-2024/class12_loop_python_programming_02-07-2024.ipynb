{
 "cells": [
  {
   "cell_type": "markdown",
   "id": "f6c8bb82-7268-46d1-88b1-eceb0fe326d4",
   "metadata": {},
   "source": [
    "# Loops in python"
   ]
  },
  {
   "cell_type": "markdown",
   "id": "6cc7c3f1-1bc1-448e-981c-5a4c218e74b0",
   "metadata": {},
   "source": [
    "### - For loop runs over a collection like list, dictionary, range, tuple, set\n",
    "### - In for loop number of execution is known while executing\n"
   ]
  },
  {
   "cell_type": "code",
   "execution_count": 5,
   "id": "d99516e7-b852-44b6-8d5f-2bf3c025f2cb",
   "metadata": {},
   "outputs": [
    {
     "name": "stdout",
     "output_type": "stream",
     "text": [
      "i = 0\n",
      "i = 1\n",
      "i = 2\n",
      "i = 3\n",
      "i = 4\n",
      "i = 5\n",
      "i = 6\n",
      "i = 7\n",
      "i = 8\n",
      "i = 9\n"
     ]
    }
   ],
   "source": [
    "for i in range(10):\n",
    "    print(f\"i = {i}\" )"
   ]
  },
  {
   "cell_type": "code",
   "execution_count": 9,
   "id": "600e41b4-100d-4955-b60c-aa89b040c59e",
   "metadata": {},
   "outputs": [
    {
     "name": "stdout",
     "output_type": "stream",
     "text": [
      "your name is ali\n",
      "your name is Hamza\n",
      "your name is Bilal\n"
     ]
    }
   ],
   "source": [
    "names = [\"ali\", \"Hamza\", \"Bilal\"]\n",
    "for name in names:\n",
    "    print(f\"your name is {name}\")"
   ]
  },
  {
   "cell_type": "markdown",
   "id": "3938dace-f4db-46d7-80c5-c07ffcb7be3b",
   "metadata": {},
   "source": [
    "### Nested for loop"
   ]
  },
  {
   "cell_type": "code",
   "execution_count": 10,
   "id": "b4807f68-4bd4-47ae-a200-48cbac8dfdbc",
   "metadata": {},
   "outputs": [
    {
     "name": "stdout",
     "output_type": "stream",
     "text": [
      "red apple\n",
      "red banana\n",
      "red cherry\n",
      "big apple\n",
      "big banana\n",
      "big cherry\n",
      "tasty apple\n",
      "tasty banana\n",
      "tasty cherry\n"
     ]
    }
   ],
   "source": [
    "adj = [\"red\", \"big\", \"tasty\"]\n",
    "fruits = [\"apple\", \"banana\", \"cherry\"]\n",
    "\n",
    "for x in adj:\n",
    "  for y in fruits:\n",
    "    print(x, y)"
   ]
  },
  {
   "cell_type": "markdown",
   "id": "6a6b11e2-b538-4520-9c23-24e4d505da9a",
   "metadata": {},
   "source": [
    "### using pass keyword to avoid errors"
   ]
  },
  {
   "cell_type": "code",
   "execution_count": 12,
   "id": "a011231d-0b13-4c08-a7e0-872b426ee1c9",
   "metadata": {},
   "outputs": [],
   "source": [
    "for i in range(100):\n",
    "    pass"
   ]
  },
  {
   "cell_type": "raw",
   "id": "8d45cc08-4275-4cb3-baf5-f461f8ca7bd6",
   "metadata": {},
   "source": [
    "Write a Python program to count the number of even and odd numbers in a series of numbers\n",
    "Sample numbers : numbers = (1, 2, 3, 4, 5, 6, 7, 8, 9) \n",
    "Expected Output :\n",
    "Number of even numbers : 4\n",
    "Number of odd numbers : 5"
   ]
  },
  {
   "cell_type": "code",
   "execution_count": 16,
   "id": "83e609c0-52b6-4d78-a9ac-8604baae86c4",
   "metadata": {},
   "outputs": [
    {
     "name": "stdout",
     "output_type": "stream",
     "text": [
      "Number of even numbers : 4\n",
      "Number of odd numbers : 5\n"
     ]
    }
   ],
   "source": [
    "numbers = (1, 2, 3, 4, 5, 6, 7, 8, 9)\n",
    "even = 0\n",
    "odd = 0\n",
    "for i in numbers:\n",
    "    if i % 2 == 0:\n",
    "        even += 1\n",
    "    else:\n",
    "        odd += 1\n",
    "print(f\"Number of even numbers : {even}\")\n",
    "print(f\"Number of odd numbers : {odd}\")"
   ]
  },
  {
   "cell_type": "code",
   "execution_count": 24,
   "id": "b1c46cd6-865c-4299-8dcd-865616d02335",
   "metadata": {},
   "outputs": [
    {
     "name": "stdout",
     "output_type": "stream",
     "text": [
      "i = 1\n",
      "i = 3\n",
      "i = 5\n",
      "i = 7\n",
      "i = 9\n"
     ]
    }
   ],
   "source": [
    "for i in range(1,10,2): #start,end,step\n",
    "    print(f\"i = {i}\")"
   ]
  },
  {
   "cell_type": "code",
   "execution_count": null,
   "id": "3f2f5c41-7ceb-4ea8-a6b1-06566c58ea8b",
   "metadata": {},
   "outputs": [],
   "source": []
  },
  {
   "cell_type": "code",
   "execution_count": null,
   "id": "bf0c8015-b29b-4f94-bf09-f136acc32f90",
   "metadata": {},
   "outputs": [],
   "source": []
  },
  {
   "cell_type": "code",
   "execution_count": null,
   "id": "1c82edf0-a69b-4118-a751-43c6c181c8e8",
   "metadata": {},
   "outputs": [],
   "source": []
  },
  {
   "cell_type": "code",
   "execution_count": null,
   "id": "ad269751-b3b3-4a19-a171-ea90e18e8ce2",
   "metadata": {},
   "outputs": [],
   "source": []
  },
  {
   "cell_type": "code",
   "execution_count": null,
   "id": "0ef3096c-fbd5-466c-b85b-a27298316884",
   "metadata": {},
   "outputs": [],
   "source": []
  },
  {
   "cell_type": "code",
   "execution_count": null,
   "id": "967de629-6b68-4ea1-9537-fcb3a0ac407a",
   "metadata": {},
   "outputs": [],
   "source": []
  },
  {
   "cell_type": "code",
   "execution_count": null,
   "id": "9302a53d-2ba5-40b0-bf23-76581b8cf666",
   "metadata": {},
   "outputs": [],
   "source": []
  },
  {
   "cell_type": "code",
   "execution_count": null,
   "id": "ca2b087d-d678-42e6-a93e-e8e55457f847",
   "metadata": {},
   "outputs": [],
   "source": []
  },
  {
   "cell_type": "code",
   "execution_count": null,
   "id": "90b97816-daf6-4d2d-b1bb-7fc44be1a36d",
   "metadata": {},
   "outputs": [],
   "source": []
  },
  {
   "cell_type": "code",
   "execution_count": null,
   "id": "ef2d2913-4500-43ef-b6b9-2a8ceb422e72",
   "metadata": {},
   "outputs": [],
   "source": []
  },
  {
   "cell_type": "code",
   "execution_count": null,
   "id": "37addcaa-3649-44e2-9ea3-1802d7884baf",
   "metadata": {},
   "outputs": [],
   "source": []
  },
  {
   "cell_type": "code",
   "execution_count": null,
   "id": "e17d302c-3dca-49e5-8610-2d918dde4df5",
   "metadata": {},
   "outputs": [],
   "source": []
  },
  {
   "cell_type": "code",
   "execution_count": null,
   "id": "6dfbac4e-77f5-493c-9125-aaf4628148d3",
   "metadata": {},
   "outputs": [],
   "source": []
  },
  {
   "cell_type": "raw",
   "id": "be38adc7-c9a1-4609-a99a-b8244184ec3a",
   "metadata": {},
   "source": [
    "Write a Python program to construct the following pattern, using a nested for loop.\r\n",
    "\r\n",
    "* \r\n",
    "* * \r\n",
    "* * * \r\n",
    "* * * * \r\n",
    "* * * * * \r\n",
    "* * * * \r\n",
    "* * * \r\n",
    "* * \r\n",
    "*"
   ]
  },
  {
   "cell_type": "code",
   "execution_count": 29,
   "id": "04180649-9076-4de2-ab2b-a6f7a8776670",
   "metadata": {},
   "outputs": [
    {
     "name": "stdout",
     "output_type": "stream",
     "text": [
      "\n",
      "*\n",
      "**\n",
      "***\n",
      "****\n",
      "*****\n",
      "****\n",
      "***\n",
      "**\n",
      "*\n"
     ]
    }
   ],
   "source": [
    "num = 5;\n",
    "for j in range(10):\n",
    "    if j > 4:\n",
    "        print(f\"*\" * (num) )\n",
    "        num -= 1\n",
    "    else:\n",
    "        print(f\"*\"*j)\n",
    "        \n",
    "            "
   ]
  },
  {
   "cell_type": "code",
   "execution_count": null,
   "id": "ced0ae24-a23e-4977-b006-4d1cc4a70b5f",
   "metadata": {},
   "outputs": [],
   "source": []
  },
  {
   "cell_type": "code",
   "execution_count": null,
   "id": "ba73d726-6317-426e-9f8a-f1fd323565bc",
   "metadata": {},
   "outputs": [],
   "source": []
  },
  {
   "cell_type": "code",
   "execution_count": null,
   "id": "c23d04da-4c99-4a4d-bf76-dd31219dad7d",
   "metadata": {},
   "outputs": [],
   "source": []
  },
  {
   "cell_type": "code",
   "execution_count": null,
   "id": "48e3c259-3873-4230-a9f3-08707d9da314",
   "metadata": {},
   "outputs": [],
   "source": []
  },
  {
   "cell_type": "code",
   "execution_count": null,
   "id": "05ed89a4-637c-41a5-9ecb-e1f43f4d85e4",
   "metadata": {},
   "outputs": [],
   "source": []
  },
  {
   "cell_type": "code",
   "execution_count": null,
   "id": "9848e23c-1bac-43c6-aeee-70784c6762ba",
   "metadata": {},
   "outputs": [],
   "source": []
  },
  {
   "cell_type": "code",
   "execution_count": null,
   "id": "7ee447c2-574b-414b-b28b-1bb7a27668fc",
   "metadata": {},
   "outputs": [],
   "source": []
  },
  {
   "cell_type": "code",
   "execution_count": null,
   "id": "89ca5400-269d-4890-bade-acbbb2998647",
   "metadata": {},
   "outputs": [],
   "source": []
  },
  {
   "cell_type": "code",
   "execution_count": null,
   "id": "aba47cd0-2499-4dea-9641-04c41992274b",
   "metadata": {},
   "outputs": [],
   "source": []
  },
  {
   "cell_type": "code",
   "execution_count": null,
   "id": "398a2118-30a2-4fda-9603-c010c12930b8",
   "metadata": {},
   "outputs": [],
   "source": []
  }
 ],
 "metadata": {
  "kernelspec": {
   "display_name": "Python 3 (ipykernel)",
   "language": "python",
   "name": "python3"
  },
  "language_info": {
   "codemirror_mode": {
    "name": "ipython",
    "version": 3
   },
   "file_extension": ".py",
   "mimetype": "text/x-python",
   "name": "python",
   "nbconvert_exporter": "python",
   "pygments_lexer": "ipython3",
   "version": "3.11.7"
  }
 },
 "nbformat": 4,
 "nbformat_minor": 5
}
