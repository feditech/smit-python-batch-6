{
 "cells": [
  {
   "cell_type": "markdown",
   "id": "045eed53-93e9-4ea2-875f-412374d05a4d",
   "metadata": {},
   "source": [
    "# Python programming"
   ]
  },
  {
   "cell_type": "raw",
   "id": "5a31c9b5-ce5f-4e2e-93d4-afe67c5551d0",
   "metadata": {},
   "source": [
    "    1. Basic to Advance\n",
    "    2. Data Analysis\n",
    "    3. Ai\n",
    "    4. Framework"
   ]
  },
  {
   "cell_type": "code",
   "execution_count": null,
   "id": "9a133f51-46f4-4cb9-b269-e649fee821b2",
   "metadata": {},
   "outputs": [],
   "source": []
  },
  {
   "cell_type": "code",
   "execution_count": null,
   "id": "289f0c37-338f-43a4-be17-db6a9a6d5721",
   "metadata": {},
   "outputs": [],
   "source": []
  },
  {
   "cell_type": "code",
   "execution_count": null,
   "id": "09a9e61a-90d9-420e-8988-2479325fa840",
   "metadata": {},
   "outputs": [],
   "source": []
  },
  {
   "cell_type": "code",
   "execution_count": null,
   "id": "b9ed28b7-6a84-4903-8bfa-fc8af35e09c8",
   "metadata": {},
   "outputs": [],
   "source": []
  },
  {
   "cell_type": "code",
   "execution_count": null,
   "id": "6b0f9419-c612-45c5-8d8e-7acb9d5481d4",
   "metadata": {},
   "outputs": [],
   "source": []
  },
  {
   "cell_type": "code",
   "execution_count": null,
   "id": "53f597bb-3ec1-4b2c-816e-9326ec5008e0",
   "metadata": {},
   "outputs": [],
   "source": []
  }
 ],
 "metadata": {
  "kernelspec": {
   "display_name": "Python 3 (ipykernel)",
   "language": "python",
   "name": "python3"
  },
  "language_info": {
   "codemirror_mode": {
    "name": "ipython",
    "version": 3
   },
   "file_extension": ".py",
   "mimetype": "text/x-python",
   "name": "python",
   "nbconvert_exporter": "python",
   "pygments_lexer": "ipython3",
   "version": "3.11.7"
  }
 },
 "nbformat": 4,
 "nbformat_minor": 5
}
