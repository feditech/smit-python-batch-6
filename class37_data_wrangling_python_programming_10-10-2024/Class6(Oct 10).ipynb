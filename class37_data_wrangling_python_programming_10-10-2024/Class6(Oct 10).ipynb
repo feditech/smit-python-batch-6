{
 "cells": [
  {
   "cell_type": "markdown",
   "id": "4b7a9777",
   "metadata": {},
   "source": [
    "# Data Wrangling: Join, Combine, and Reshape"
   ]
  },
  {
   "cell_type": "markdown",
   "id": "0aba8a0e",
   "metadata": {},
   "source": [
    "### Hierarchical Indexing"
   ]
  },
  {
   "cell_type": "code",
   "execution_count": 3,
   "id": "5a3c8369",
   "metadata": {},
   "outputs": [],
   "source": [
    "import numpy as np\n",
    "import pandas as pd"
   ]
  },
  {
   "cell_type": "code",
   "execution_count": 12,
   "id": "686d5e1d",
   "metadata": {},
   "outputs": [
    {
     "data": {
      "text/plain": [
       "a  1    0.706573\n",
       "   2   -0.610451\n",
       "   3   -0.561792\n",
       "b  1   -0.613668\n",
       "   3   -0.297383\n",
       "c  1    0.964981\n",
       "   2    0.991413\n",
       "d  2    0.047090\n",
       "   3   -0.620089\n",
       "dtype: float64"
      ]
     },
     "execution_count": 12,
     "metadata": {},
     "output_type": "execute_result"
    }
   ],
   "source": [
    "data = pd.Series(np.random.randn(9),\n",
    "                 index=[\n",
    "                        ['a', 'a', 'a', 'b', 'b', 'c', 'c', 'd', 'd'],\n",
    "                        [1, 2, 3, 1, 3, 1, 2, 2, 3]\n",
    "                       \n",
    "                       ])\n",
    "data"
   ]
  },
  {
   "cell_type": "code",
   "execution_count": 10,
   "id": "4e2426c2",
   "metadata": {},
   "outputs": [
    {
     "data": {
      "text/plain": [
       "MultiIndex([('a', 1),\n",
       "            ('a', 2),\n",
       "            ('a', 3),\n",
       "            ('b', 1),\n",
       "            ('b', 3),\n",
       "            ('c', 1),\n",
       "            ('c', 2),\n",
       "            ('d', 2),\n",
       "            ('d', 3)],\n",
       "           )"
      ]
     },
     "execution_count": 10,
     "metadata": {},
     "output_type": "execute_result"
    }
   ],
   "source": [
    "data.index"
   ]
  },
  {
   "cell_type": "code",
   "execution_count": 13,
   "id": "628f84a4",
   "metadata": {},
   "outputs": [
    {
     "data": {
      "text/plain": [
       "array([ 0.70657297, -0.61045135, -0.56179236, -0.61366798, -0.29738301,\n",
       "        0.96498091,  0.99141306,  0.04709029, -0.62008894])"
      ]
     },
     "execution_count": 13,
     "metadata": {},
     "output_type": "execute_result"
    }
   ],
   "source": [
    "data.values"
   ]
  },
  {
   "cell_type": "code",
   "execution_count": 14,
   "id": "17f81631",
   "metadata": {},
   "outputs": [
    {
     "data": {
      "text/html": [
       "<div>\n",
       "<style scoped>\n",
       "    .dataframe tbody tr th:only-of-type {\n",
       "        vertical-align: middle;\n",
       "    }\n",
       "\n",
       "    .dataframe tbody tr th {\n",
       "        vertical-align: top;\n",
       "    }\n",
       "\n",
       "    .dataframe thead tr th {\n",
       "        text-align: left;\n",
       "    }\n",
       "</style>\n",
       "<table border=\"1\" class=\"dataframe\">\n",
       "  <thead>\n",
       "    <tr>\n",
       "      <th></th>\n",
       "      <th></th>\n",
       "      <th colspan=\"2\" halign=\"left\">Ohio</th>\n",
       "      <th>Colorado</th>\n",
       "    </tr>\n",
       "    <tr>\n",
       "      <th></th>\n",
       "      <th></th>\n",
       "      <th>Green</th>\n",
       "      <th>Red</th>\n",
       "      <th>Green</th>\n",
       "    </tr>\n",
       "  </thead>\n",
       "  <tbody>\n",
       "    <tr>\n",
       "      <th rowspan=\"2\" valign=\"top\">a</th>\n",
       "      <th>1</th>\n",
       "      <td>0</td>\n",
       "      <td>1</td>\n",
       "      <td>2</td>\n",
       "    </tr>\n",
       "    <tr>\n",
       "      <th>2</th>\n",
       "      <td>3</td>\n",
       "      <td>4</td>\n",
       "      <td>5</td>\n",
       "    </tr>\n",
       "    <tr>\n",
       "      <th rowspan=\"2\" valign=\"top\">b</th>\n",
       "      <th>1</th>\n",
       "      <td>6</td>\n",
       "      <td>7</td>\n",
       "      <td>8</td>\n",
       "    </tr>\n",
       "    <tr>\n",
       "      <th>2</th>\n",
       "      <td>9</td>\n",
       "      <td>10</td>\n",
       "      <td>11</td>\n",
       "    </tr>\n",
       "  </tbody>\n",
       "</table>\n",
       "</div>"
      ],
      "text/plain": [
       "     Ohio     Colorado\n",
       "    Green Red    Green\n",
       "a 1     0   1        2\n",
       "  2     3   4        5\n",
       "b 1     6   7        8\n",
       "  2     9  10       11"
      ]
     },
     "execution_count": 14,
     "metadata": {},
     "output_type": "execute_result"
    }
   ],
   "source": [
    "frame = pd.DataFrame(np.arange(12).reshape((4, 3)),\n",
    "                     index=[['a', 'a', 'b', 'b'], [1, 2, 1, 2]],\n",
    "                     columns=[['Ohio', 'Ohio', 'Colorado'],['Green', 'Red','Green']])\n",
    "frame"
   ]
  },
  {
   "cell_type": "code",
   "execution_count": 20,
   "id": "f89ccac2",
   "metadata": {},
   "outputs": [],
   "source": [
    "ar1d = np.array([1,2,3,4,5,6,7,8])"
   ]
  },
  {
   "cell_type": "code",
   "execution_count": 22,
   "id": "e2c90878",
   "metadata": {},
   "outputs": [
    {
     "data": {
      "text/plain": [
       "array([1, 2, 3, 4, 5, 6, 7, 8])"
      ]
     },
     "execution_count": 22,
     "metadata": {},
     "output_type": "execute_result"
    }
   ],
   "source": [
    "ar1d"
   ]
  },
  {
   "cell_type": "code",
   "execution_count": 23,
   "id": "5e066d53",
   "metadata": {},
   "outputs": [
    {
     "data": {
      "text/plain": [
       "numpy.ndarray"
      ]
     },
     "execution_count": 23,
     "metadata": {},
     "output_type": "execute_result"
    }
   ],
   "source": [
    "type(ar1d)"
   ]
  },
  {
   "cell_type": "code",
   "execution_count": 24,
   "id": "69ab1bc8",
   "metadata": {},
   "outputs": [
    {
     "data": {
      "text/plain": [
       "1"
      ]
     },
     "execution_count": 24,
     "metadata": {},
     "output_type": "execute_result"
    }
   ],
   "source": [
    "ar1d.ndim"
   ]
  },
  {
   "cell_type": "code",
   "execution_count": 25,
   "id": "724608d9",
   "metadata": {},
   "outputs": [],
   "source": [
    "arr2d = np.array([[1,2,3,4,5,6,7,8],\n",
    "                  [2,3,4,5,6,7,8,9],\n",
    "                 [3,4,5,6,7,8,9,10]])"
   ]
  },
  {
   "cell_type": "code",
   "execution_count": 26,
   "id": "64070836",
   "metadata": {},
   "outputs": [
    {
     "data": {
      "text/plain": [
       "array([[ 1,  2,  3,  4,  5,  6,  7,  8],\n",
       "       [ 2,  3,  4,  5,  6,  7,  8,  9],\n",
       "       [ 3,  4,  5,  6,  7,  8,  9, 10]])"
      ]
     },
     "execution_count": 26,
     "metadata": {},
     "output_type": "execute_result"
    }
   ],
   "source": [
    "arr2d"
   ]
  },
  {
   "cell_type": "code",
   "execution_count": 27,
   "id": "de5aab58",
   "metadata": {},
   "outputs": [
    {
     "data": {
      "text/plain": [
       "2"
      ]
     },
     "execution_count": 27,
     "metadata": {},
     "output_type": "execute_result"
    }
   ],
   "source": [
    "arr2d.ndim"
   ]
  },
  {
   "cell_type": "code",
   "execution_count": 28,
   "id": "80a73dce",
   "metadata": {},
   "outputs": [
    {
     "data": {
      "text/plain": [
       "(3, 8)"
      ]
     },
     "execution_count": 28,
     "metadata": {},
     "output_type": "execute_result"
    }
   ],
   "source": [
    "arr2d.shape"
   ]
  },
  {
   "cell_type": "code",
   "execution_count": 37,
   "id": "ba6928c4",
   "metadata": {},
   "outputs": [
    {
     "data": {
      "text/plain": [
       "array([[ 0],\n",
       "       [ 1],\n",
       "       [ 2],\n",
       "       [ 3],\n",
       "       [ 4],\n",
       "       [ 5],\n",
       "       [ 6],\n",
       "       [ 7],\n",
       "       [ 8],\n",
       "       [ 9],\n",
       "       [10],\n",
       "       [11],\n",
       "       [12],\n",
       "       [13],\n",
       "       [14],\n",
       "       [15]])"
      ]
     },
     "execution_count": 37,
     "metadata": {},
     "output_type": "execute_result"
    }
   ],
   "source": [
    "arr2d = np.arange(16).reshape(16,1)\n",
    "arr2d"
   ]
  },
  {
   "cell_type": "code",
   "execution_count": 38,
   "id": "1773cce4",
   "metadata": {},
   "outputs": [
    {
     "data": {
      "text/plain": [
       "(16, 1)"
      ]
     },
     "execution_count": 38,
     "metadata": {},
     "output_type": "execute_result"
    }
   ],
   "source": [
    "arr2d.shape"
   ]
  },
  {
   "cell_type": "code",
   "execution_count": 43,
   "id": "17c3bffb",
   "metadata": {},
   "outputs": [],
   "source": [
    "arr3d = np.arange(27).reshape(3,3,3)# (copy, row, cols)"
   ]
  },
  {
   "cell_type": "code",
   "execution_count": 44,
   "id": "ae193153",
   "metadata": {},
   "outputs": [
    {
     "data": {
      "text/plain": [
       "array([[[ 0,  1,  2],\n",
       "        [ 3,  4,  5],\n",
       "        [ 6,  7,  8]],\n",
       "\n",
       "       [[ 9, 10, 11],\n",
       "        [12, 13, 14],\n",
       "        [15, 16, 17]],\n",
       "\n",
       "       [[18, 19, 20],\n",
       "        [21, 22, 23],\n",
       "        [24, 25, 26]]])"
      ]
     },
     "execution_count": 44,
     "metadata": {},
     "output_type": "execute_result"
    }
   ],
   "source": [
    "arr3d"
   ]
  },
  {
   "cell_type": "code",
   "execution_count": 46,
   "id": "5355729d",
   "metadata": {},
   "outputs": [
    {
     "data": {
      "text/plain": [
       "array([[[ 0,  1,  2,  3,  4,  5]],\n",
       "\n",
       "       [[ 6,  7,  8,  9, 10, 11]]])"
      ]
     },
     "execution_count": 46,
     "metadata": {},
     "output_type": "execute_result"
    }
   ],
   "source": [
    "arr3d = np.arange(12).reshape(2,1,6)\n",
    "arr3d"
   ]
  },
  {
   "cell_type": "code",
   "execution_count": 47,
   "id": "8373cbfc",
   "metadata": {},
   "outputs": [
    {
     "data": {
      "text/plain": [
       "array([1, 2, 3, 4, 5, 6, 7, 8])"
      ]
     },
     "execution_count": 47,
     "metadata": {},
     "output_type": "execute_result"
    }
   ],
   "source": [
    "ar1"
   ]
  },
  {
   "cell_type": "code",
   "execution_count": 48,
   "id": "20ef210b",
   "metadata": {},
   "outputs": [
    {
     "data": {
      "text/plain": [
       "array([1, 2, 3, 4, 5, 6, 7, 8])"
      ]
     },
     "execution_count": 48,
     "metadata": {},
     "output_type": "execute_result"
    }
   ],
   "source": [
    "ar1d"
   ]
  },
  {
   "cell_type": "code",
   "execution_count": 49,
   "id": "eabffc93",
   "metadata": {},
   "outputs": [
    {
     "data": {
      "text/plain": [
       "1"
      ]
     },
     "execution_count": 49,
     "metadata": {},
     "output_type": "execute_result"
    }
   ],
   "source": [
    "ar1d.min()"
   ]
  },
  {
   "cell_type": "code",
   "execution_count": 50,
   "id": "159edef6",
   "metadata": {},
   "outputs": [
    {
     "data": {
      "text/plain": [
       "8"
      ]
     },
     "execution_count": 50,
     "metadata": {},
     "output_type": "execute_result"
    }
   ],
   "source": [
    "ar1d.max()"
   ]
  },
  {
   "cell_type": "code",
   "execution_count": 51,
   "id": "735abed0",
   "metadata": {},
   "outputs": [
    {
     "data": {
      "text/plain": [
       "4.5"
      ]
     },
     "execution_count": 51,
     "metadata": {},
     "output_type": "execute_result"
    }
   ],
   "source": [
    "ar1d.mean()"
   ]
  },
  {
   "cell_type": "code",
   "execution_count": 52,
   "id": "df743938",
   "metadata": {},
   "outputs": [
    {
     "data": {
      "text/plain": [
       "2.29128784747792"
      ]
     },
     "execution_count": 52,
     "metadata": {},
     "output_type": "execute_result"
    }
   ],
   "source": [
    "ar1d.std()"
   ]
  },
  {
   "cell_type": "code",
   "execution_count": 53,
   "id": "ee7cbc76",
   "metadata": {},
   "outputs": [
    {
     "data": {
      "text/plain": [
       "[10, 20, 30, 40]"
      ]
     },
     "execution_count": 53,
     "metadata": {},
     "output_type": "execute_result"
    }
   ],
   "source": [
    "lst = [1,2,3,4]\n",
    "lst_10 = []\n",
    "for n in lst:\n",
    "    lst_10.append(n*10)\n",
    "lst_10"
   ]
  },
  {
   "cell_type": "code",
   "execution_count": 54,
   "id": "fe8612ed",
   "metadata": {},
   "outputs": [],
   "source": [
    "arr = np.array(lst)"
   ]
  },
  {
   "cell_type": "code",
   "execution_count": 55,
   "id": "8cd19946",
   "metadata": {},
   "outputs": [
    {
     "data": {
      "text/plain": [
       "array([10, 20, 30, 40])"
      ]
     },
     "execution_count": 55,
     "metadata": {},
     "output_type": "execute_result"
    }
   ],
   "source": [
    "arr*10"
   ]
  },
  {
   "cell_type": "code",
   "execution_count": 56,
   "id": "919cf91b",
   "metadata": {},
   "outputs": [
    {
     "data": {
      "text/plain": [
       "array([[[0.  , 0.01, 0.02, 0.03, 0.04, 0.05]],\n",
       "\n",
       "       [[0.06, 0.07, 0.08, 0.09, 0.1 , 0.11]]])"
      ]
     },
     "execution_count": 56,
     "metadata": {},
     "output_type": "execute_result"
    }
   ],
   "source": [
    "arr3d/100"
   ]
  },
  {
   "cell_type": "code",
   "execution_count": 14,
   "id": "dd12a5b6",
   "metadata": {},
   "outputs": [
    {
     "data": {
      "text/plain": [
       "array([[ 0,  1,  2,  3,  4],\n",
       "       [ 5,  6,  7,  8,  9],\n",
       "       [10, 11, 12, 13, 14],\n",
       "       [15, 16, 17, 18, 19],\n",
       "       [20, 21, 22, 23, 24]])"
      ]
     },
     "execution_count": 14,
     "metadata": {},
     "output_type": "execute_result"
    }
   ],
   "source": [
    "arr2d_a = np.array([[1,2,3,4,5],[6,7,8,9,10], [11,22,33,44,55]])\n",
    "arr2d_b  =np.array([[2,4,6,8,10],[10,8,6,4,2],[9,8,7,6,54]])\n",
    "arr2d_c = np.arange(25).reshape(5,5)\n",
    "arr2d_c"
   ]
  },
  {
   "cell_type": "code",
   "execution_count": 5,
   "id": "7583e5fe",
   "metadata": {},
   "outputs": [
    {
     "data": {
      "text/plain": [
       "array([[ 2,  4,  6,  8, 10],\n",
       "       [10,  8,  6,  4,  2],\n",
       "       [ 9,  8,  7,  6, 54]])"
      ]
     },
     "execution_count": 5,
     "metadata": {},
     "output_type": "execute_result"
    }
   ],
   "source": [
    "arr2d_b"
   ]
  },
  {
   "cell_type": "code",
   "execution_count": 8,
   "id": "a338a3fa",
   "metadata": {},
   "outputs": [
    {
     "data": {
      "text/plain": [
       "array([[   2,    8,   18,   32,   50],\n",
       "       [  60,   56,   48,   36,   20],\n",
       "       [  99,  176,  231,  264, 2970]])"
      ]
     },
     "execution_count": 8,
     "metadata": {},
     "output_type": "execute_result"
    }
   ],
   "source": [
    "arr2d_a * arr2d_b # * mirror multiplication"
   ]
  },
  {
   "cell_type": "code",
   "execution_count": 7,
   "id": "94d48c30",
   "metadata": {},
   "outputs": [
    {
     "data": {
      "text/plain": [
       "array([[  3,   6,   9,  12,  15],\n",
       "       [ 16,  15,  14,  13,  12],\n",
       "       [ 20,  30,  40,  50, 109]])"
      ]
     },
     "execution_count": 7,
     "metadata": {},
     "output_type": "execute_result"
    }
   ],
   "source": [
    "arr2d_a + arr2d_b"
   ]
  },
  {
   "cell_type": "code",
   "execution_count": 6,
   "id": "3c863764",
   "metadata": {},
   "outputs": [
    {
     "data": {
      "text/plain": [
       "((3, 5), (5, 5))"
      ]
     },
     "execution_count": 6,
     "metadata": {},
     "output_type": "execute_result"
    }
   ],
   "source": [
    "arr2d_a.shape, arr2d_c.shape"
   ]
  },
  {
   "cell_type": "code",
   "execution_count": 15,
   "id": "01f687b9",
   "metadata": {},
   "outputs": [
    {
     "ename": "ValueError",
     "evalue": "operands could not be broadcast together with shapes (3,5) (5,5) ",
     "output_type": "error",
     "traceback": [
      "\u001b[1;31m---------------------------------------------------------------------------\u001b[0m",
      "\u001b[1;31mValueError\u001b[0m                                Traceback (most recent call last)",
      "Cell \u001b[1;32mIn[15], line 1\u001b[0m\n\u001b[1;32m----> 1\u001b[0m arr2d_a \u001b[38;5;241m*\u001b[39m  arr2d_c\n",
      "\u001b[1;31mValueError\u001b[0m: operands could not be broadcast together with shapes (3,5) (5,5) "
     ]
    }
   ],
   "source": [
    "arr2d_a *  arr2d_c"
   ]
  },
  {
   "cell_type": "code",
   "execution_count": 16,
   "id": "05e0d903",
   "metadata": {},
   "outputs": [
    {
     "data": {
      "text/plain": [
       "array([[ 200,  215,  230,  245,  260],\n",
       "       [ 450,  490,  530,  570,  610],\n",
       "       [2200, 2365, 2530, 2695, 2860]])"
      ]
     },
     "execution_count": 16,
     "metadata": {},
     "output_type": "execute_result"
    }
   ],
   "source": [
    "arr2d_a@arr2d_c"
   ]
  },
  {
   "cell_type": "code",
   "execution_count": 17,
   "id": "0ae6f55a",
   "metadata": {},
   "outputs": [
    {
     "ename": "LinAlgError",
     "evalue": "Singular matrix",
     "output_type": "error",
     "traceback": [
      "\u001b[1;31m---------------------------------------------------------------------------\u001b[0m",
      "\u001b[1;31mLinAlgError\u001b[0m                               Traceback (most recent call last)",
      "Cell \u001b[1;32mIn[17], line 1\u001b[0m\n\u001b[1;32m----> 1\u001b[0m np\u001b[38;5;241m.\u001b[39mlinalg\u001b[38;5;241m.\u001b[39minv(arr2d_c)\n",
      "File \u001b[1;32m~\\anaconda3\\Lib\\site-packages\\numpy\\linalg\\linalg.py:561\u001b[0m, in \u001b[0;36minv\u001b[1;34m(a)\u001b[0m\n\u001b[0;32m    559\u001b[0m signature \u001b[38;5;241m=\u001b[39m \u001b[38;5;124m'\u001b[39m\u001b[38;5;124mD->D\u001b[39m\u001b[38;5;124m'\u001b[39m \u001b[38;5;28;01mif\u001b[39;00m isComplexType(t) \u001b[38;5;28;01melse\u001b[39;00m \u001b[38;5;124m'\u001b[39m\u001b[38;5;124md->d\u001b[39m\u001b[38;5;124m'\u001b[39m\n\u001b[0;32m    560\u001b[0m extobj \u001b[38;5;241m=\u001b[39m get_linalg_error_extobj(_raise_linalgerror_singular)\n\u001b[1;32m--> 561\u001b[0m ainv \u001b[38;5;241m=\u001b[39m _umath_linalg\u001b[38;5;241m.\u001b[39minv(a, signature\u001b[38;5;241m=\u001b[39msignature, extobj\u001b[38;5;241m=\u001b[39mextobj)\n\u001b[0;32m    562\u001b[0m \u001b[38;5;28;01mreturn\u001b[39;00m wrap(ainv\u001b[38;5;241m.\u001b[39mastype(result_t, copy\u001b[38;5;241m=\u001b[39m\u001b[38;5;28;01mFalse\u001b[39;00m))\n",
      "File \u001b[1;32m~\\anaconda3\\Lib\\site-packages\\numpy\\linalg\\linalg.py:112\u001b[0m, in \u001b[0;36m_raise_linalgerror_singular\u001b[1;34m(err, flag)\u001b[0m\n\u001b[0;32m    111\u001b[0m \u001b[38;5;28;01mdef\u001b[39;00m \u001b[38;5;21m_raise_linalgerror_singular\u001b[39m(err, flag):\n\u001b[1;32m--> 112\u001b[0m     \u001b[38;5;28;01mraise\u001b[39;00m LinAlgError(\u001b[38;5;124m\"\u001b[39m\u001b[38;5;124mSingular matrix\u001b[39m\u001b[38;5;124m\"\u001b[39m)\n",
      "\u001b[1;31mLinAlgError\u001b[0m: Singular matrix"
     ]
    }
   ],
   "source": [
    "np.linalg.inv(arr2d_c)"
   ]
  },
  {
   "cell_type": "code",
   "execution_count": 18,
   "id": "b47a893b",
   "metadata": {},
   "outputs": [
    {
     "ename": "FileNotFoundError",
     "evalue": "[Errno 2] No such file or directory: 'test_data.xlsx'",
     "output_type": "error",
     "traceback": [
      "\u001b[1;31m---------------------------------------------------------------------------\u001b[0m",
      "\u001b[1;31mFileNotFoundError\u001b[0m                         Traceback (most recent call last)",
      "Cell \u001b[1;32mIn[18], line 1\u001b[0m\n\u001b[1;32m----> 1\u001b[0m data \u001b[38;5;241m=\u001b[39m pd\u001b[38;5;241m.\u001b[39mread_excel(\u001b[38;5;124m\"\u001b[39m\u001b[38;5;124mtest_data.xlsx\u001b[39m\u001b[38;5;124m\"\u001b[39m)\n",
      "File \u001b[1;32m~\\anaconda3\\Lib\\site-packages\\pandas\\io\\excel\\_base.py:504\u001b[0m, in \u001b[0;36mread_excel\u001b[1;34m(io, sheet_name, header, names, index_col, usecols, dtype, engine, converters, true_values, false_values, skiprows, nrows, na_values, keep_default_na, na_filter, verbose, parse_dates, date_parser, date_format, thousands, decimal, comment, skipfooter, storage_options, dtype_backend, engine_kwargs)\u001b[0m\n\u001b[0;32m    502\u001b[0m \u001b[38;5;28;01mif\u001b[39;00m \u001b[38;5;129;01mnot\u001b[39;00m \u001b[38;5;28misinstance\u001b[39m(io, ExcelFile):\n\u001b[0;32m    503\u001b[0m     should_close \u001b[38;5;241m=\u001b[39m \u001b[38;5;28;01mTrue\u001b[39;00m\n\u001b[1;32m--> 504\u001b[0m     io \u001b[38;5;241m=\u001b[39m ExcelFile(\n\u001b[0;32m    505\u001b[0m         io,\n\u001b[0;32m    506\u001b[0m         storage_options\u001b[38;5;241m=\u001b[39mstorage_options,\n\u001b[0;32m    507\u001b[0m         engine\u001b[38;5;241m=\u001b[39mengine,\n\u001b[0;32m    508\u001b[0m         engine_kwargs\u001b[38;5;241m=\u001b[39mengine_kwargs,\n\u001b[0;32m    509\u001b[0m     )\n\u001b[0;32m    510\u001b[0m \u001b[38;5;28;01melif\u001b[39;00m engine \u001b[38;5;129;01mand\u001b[39;00m engine \u001b[38;5;241m!=\u001b[39m io\u001b[38;5;241m.\u001b[39mengine:\n\u001b[0;32m    511\u001b[0m     \u001b[38;5;28;01mraise\u001b[39;00m \u001b[38;5;167;01mValueError\u001b[39;00m(\n\u001b[0;32m    512\u001b[0m         \u001b[38;5;124m\"\u001b[39m\u001b[38;5;124mEngine should not be specified when passing \u001b[39m\u001b[38;5;124m\"\u001b[39m\n\u001b[0;32m    513\u001b[0m         \u001b[38;5;124m\"\u001b[39m\u001b[38;5;124man ExcelFile - ExcelFile already has the engine set\u001b[39m\u001b[38;5;124m\"\u001b[39m\n\u001b[0;32m    514\u001b[0m     )\n",
      "File \u001b[1;32m~\\anaconda3\\Lib\\site-packages\\pandas\\io\\excel\\_base.py:1563\u001b[0m, in \u001b[0;36mExcelFile.__init__\u001b[1;34m(self, path_or_buffer, engine, storage_options, engine_kwargs)\u001b[0m\n\u001b[0;32m   1561\u001b[0m     ext \u001b[38;5;241m=\u001b[39m \u001b[38;5;124m\"\u001b[39m\u001b[38;5;124mxls\u001b[39m\u001b[38;5;124m\"\u001b[39m\n\u001b[0;32m   1562\u001b[0m \u001b[38;5;28;01melse\u001b[39;00m:\n\u001b[1;32m-> 1563\u001b[0m     ext \u001b[38;5;241m=\u001b[39m inspect_excel_format(\n\u001b[0;32m   1564\u001b[0m         content_or_path\u001b[38;5;241m=\u001b[39mpath_or_buffer, storage_options\u001b[38;5;241m=\u001b[39mstorage_options\n\u001b[0;32m   1565\u001b[0m     )\n\u001b[0;32m   1566\u001b[0m     \u001b[38;5;28;01mif\u001b[39;00m ext \u001b[38;5;129;01mis\u001b[39;00m \u001b[38;5;28;01mNone\u001b[39;00m:\n\u001b[0;32m   1567\u001b[0m         \u001b[38;5;28;01mraise\u001b[39;00m \u001b[38;5;167;01mValueError\u001b[39;00m(\n\u001b[0;32m   1568\u001b[0m             \u001b[38;5;124m\"\u001b[39m\u001b[38;5;124mExcel file format cannot be determined, you must specify \u001b[39m\u001b[38;5;124m\"\u001b[39m\n\u001b[0;32m   1569\u001b[0m             \u001b[38;5;124m\"\u001b[39m\u001b[38;5;124man engine manually.\u001b[39m\u001b[38;5;124m\"\u001b[39m\n\u001b[0;32m   1570\u001b[0m         )\n",
      "File \u001b[1;32m~\\anaconda3\\Lib\\site-packages\\pandas\\io\\excel\\_base.py:1419\u001b[0m, in \u001b[0;36minspect_excel_format\u001b[1;34m(content_or_path, storage_options)\u001b[0m\n\u001b[0;32m   1416\u001b[0m \u001b[38;5;28;01mif\u001b[39;00m \u001b[38;5;28misinstance\u001b[39m(content_or_path, \u001b[38;5;28mbytes\u001b[39m):\n\u001b[0;32m   1417\u001b[0m     content_or_path \u001b[38;5;241m=\u001b[39m BytesIO(content_or_path)\n\u001b[1;32m-> 1419\u001b[0m \u001b[38;5;28;01mwith\u001b[39;00m get_handle(\n\u001b[0;32m   1420\u001b[0m     content_or_path, \u001b[38;5;124m\"\u001b[39m\u001b[38;5;124mrb\u001b[39m\u001b[38;5;124m\"\u001b[39m, storage_options\u001b[38;5;241m=\u001b[39mstorage_options, is_text\u001b[38;5;241m=\u001b[39m\u001b[38;5;28;01mFalse\u001b[39;00m\n\u001b[0;32m   1421\u001b[0m ) \u001b[38;5;28;01mas\u001b[39;00m handle:\n\u001b[0;32m   1422\u001b[0m     stream \u001b[38;5;241m=\u001b[39m handle\u001b[38;5;241m.\u001b[39mhandle\n\u001b[0;32m   1423\u001b[0m     stream\u001b[38;5;241m.\u001b[39mseek(\u001b[38;5;241m0\u001b[39m)\n",
      "File \u001b[1;32m~\\anaconda3\\Lib\\site-packages\\pandas\\io\\common.py:872\u001b[0m, in \u001b[0;36mget_handle\u001b[1;34m(path_or_buf, mode, encoding, compression, memory_map, is_text, errors, storage_options)\u001b[0m\n\u001b[0;32m    863\u001b[0m         handle \u001b[38;5;241m=\u001b[39m \u001b[38;5;28mopen\u001b[39m(\n\u001b[0;32m    864\u001b[0m             handle,\n\u001b[0;32m    865\u001b[0m             ioargs\u001b[38;5;241m.\u001b[39mmode,\n\u001b[1;32m   (...)\u001b[0m\n\u001b[0;32m    868\u001b[0m             newline\u001b[38;5;241m=\u001b[39m\u001b[38;5;124m\"\u001b[39m\u001b[38;5;124m\"\u001b[39m,\n\u001b[0;32m    869\u001b[0m         )\n\u001b[0;32m    870\u001b[0m     \u001b[38;5;28;01melse\u001b[39;00m:\n\u001b[0;32m    871\u001b[0m         \u001b[38;5;66;03m# Binary mode\u001b[39;00m\n\u001b[1;32m--> 872\u001b[0m         handle \u001b[38;5;241m=\u001b[39m \u001b[38;5;28mopen\u001b[39m(handle, ioargs\u001b[38;5;241m.\u001b[39mmode)\n\u001b[0;32m    873\u001b[0m     handles\u001b[38;5;241m.\u001b[39mappend(handle)\n\u001b[0;32m    875\u001b[0m \u001b[38;5;66;03m# Convert BytesIO or file objects passed with an encoding\u001b[39;00m\n",
      "\u001b[1;31mFileNotFoundError\u001b[0m: [Errno 2] No such file or directory: 'test_data.xlsx'"
     ]
    }
   ],
   "source": [
    "data = pd.read_excel(\"test_data.xlsx\")"
   ]
  },
  {
   "cell_type": "code",
   "execution_count": 88,
   "id": "638189e1",
   "metadata": {},
   "outputs": [],
   "source": [
    "df0 = pd.read_excel(\"test_data.xlsx\")\n",
    "df1 = pd.read_excel(\"test_data.xlsx\",sheet_name=1)\n",
    "df2 = pd.read_excel(\"test_data.xlsx\",sheet_name=2)"
   ]
  },
  {
   "cell_type": "code",
   "execution_count": 89,
   "id": "3c4c6de1",
   "metadata": {},
   "outputs": [
    {
     "data": {
      "text/html": [
       "<div>\n",
       "<style scoped>\n",
       "    .dataframe tbody tr th:only-of-type {\n",
       "        vertical-align: middle;\n",
       "    }\n",
       "\n",
       "    .dataframe tbody tr th {\n",
       "        vertical-align: top;\n",
       "    }\n",
       "\n",
       "    .dataframe thead th {\n",
       "        text-align: right;\n",
       "    }\n",
       "</style>\n",
       "<table border=\"1\" class=\"dataframe\">\n",
       "  <thead>\n",
       "    <tr style=\"text-align: right;\">\n",
       "      <th></th>\n",
       "      <th>sales_man_id</th>\n",
       "      <th>sales_man_name</th>\n",
       "      <th>sales_man_city</th>\n",
       "      <th>product_id</th>\n",
       "      <th>manager</th>\n",
       "    </tr>\n",
       "  </thead>\n",
       "  <tbody>\n",
       "    <tr>\n",
       "      <th>0</th>\n",
       "      <td>1</td>\n",
       "      <td>Asad</td>\n",
       "      <td>Karachi</td>\n",
       "      <td>123</td>\n",
       "      <td>Jawed</td>\n",
       "    </tr>\n",
       "    <tr>\n",
       "      <th>1</th>\n",
       "      <td>2</td>\n",
       "      <td>Sumair</td>\n",
       "      <td>Lahore</td>\n",
       "      <td>123</td>\n",
       "      <td>Jawed</td>\n",
       "    </tr>\n",
       "    <tr>\n",
       "      <th>2</th>\n",
       "      <td>3</td>\n",
       "      <td>Farjad</td>\n",
       "      <td>Karachi</td>\n",
       "      <td>145</td>\n",
       "      <td>Najam</td>\n",
       "    </tr>\n",
       "    <tr>\n",
       "      <th>3</th>\n",
       "      <td>4</td>\n",
       "      <td>Hassan</td>\n",
       "      <td>Lahore</td>\n",
       "      <td>567</td>\n",
       "      <td>Najam</td>\n",
       "    </tr>\n",
       "    <tr>\n",
       "      <th>4</th>\n",
       "      <td>5</td>\n",
       "      <td>Nasir</td>\n",
       "      <td>Hyderabad</td>\n",
       "      <td>234</td>\n",
       "      <td>Jawed</td>\n",
       "    </tr>\n",
       "    <tr>\n",
       "      <th>5</th>\n",
       "      <td>6</td>\n",
       "      <td>Kashif</td>\n",
       "      <td>Hyderabad</td>\n",
       "      <td>234</td>\n",
       "      <td>Faisal</td>\n",
       "    </tr>\n",
       "    <tr>\n",
       "      <th>6</th>\n",
       "      <td>7</td>\n",
       "      <td>Sana</td>\n",
       "      <td>Lahore</td>\n",
       "      <td>567</td>\n",
       "      <td>Faisal</td>\n",
       "    </tr>\n",
       "    <tr>\n",
       "      <th>7</th>\n",
       "      <td>8</td>\n",
       "      <td>Fatima</td>\n",
       "      <td>Karachi</td>\n",
       "      <td>345</td>\n",
       "      <td>Najam</td>\n",
       "    </tr>\n",
       "    <tr>\n",
       "      <th>8</th>\n",
       "      <td>9</td>\n",
       "      <td>Abdullah</td>\n",
       "      <td>Karachi</td>\n",
       "      <td>123</td>\n",
       "      <td>Faisal</td>\n",
       "    </tr>\n",
       "  </tbody>\n",
       "</table>\n",
       "</div>"
      ],
      "text/plain": [
       "   sales_man_id sales_man_name sales_man_city  product_id manager\n",
       "0             1           Asad        Karachi         123   Jawed\n",
       "1             2         Sumair         Lahore         123   Jawed\n",
       "2             3         Farjad        Karachi         145   Najam\n",
       "3             4         Hassan         Lahore         567   Najam\n",
       "4             5          Nasir      Hyderabad         234   Jawed\n",
       "5             6         Kashif      Hyderabad         234  Faisal\n",
       "6             7           Sana         Lahore         567  Faisal\n",
       "7             8         Fatima        Karachi         345   Najam\n",
       "8             9       Abdullah        Karachi         123  Faisal"
      ]
     },
     "execution_count": 89,
     "metadata": {},
     "output_type": "execute_result"
    }
   ],
   "source": [
    "df0"
   ]
  },
  {
   "cell_type": "code",
   "execution_count": 90,
   "id": "fd38a7a8",
   "metadata": {},
   "outputs": [
    {
     "data": {
      "text/html": [
       "<div>\n",
       "<style scoped>\n",
       "    .dataframe tbody tr th:only-of-type {\n",
       "        vertical-align: middle;\n",
       "    }\n",
       "\n",
       "    .dataframe tbody tr th {\n",
       "        vertical-align: top;\n",
       "    }\n",
       "\n",
       "    .dataframe thead th {\n",
       "        text-align: right;\n",
       "    }\n",
       "</style>\n",
       "<table border=\"1\" class=\"dataframe\">\n",
       "  <thead>\n",
       "    <tr style=\"text-align: right;\">\n",
       "      <th></th>\n",
       "      <th>sales_man_id</th>\n",
       "      <th>sales_man_name</th>\n",
       "      <th>sales_man_city</th>\n",
       "      <th>product_id</th>\n",
       "      <th>manager</th>\n",
       "      <th>Experience</th>\n",
       "    </tr>\n",
       "  </thead>\n",
       "  <tbody>\n",
       "    <tr>\n",
       "      <th>0</th>\n",
       "      <td>1</td>\n",
       "      <td>Ahmed</td>\n",
       "      <td>Karachi</td>\n",
       "      <td>123</td>\n",
       "      <td>Jawed</td>\n",
       "      <td>2</td>\n",
       "    </tr>\n",
       "    <tr>\n",
       "      <th>1</th>\n",
       "      <td>22</td>\n",
       "      <td>Umer</td>\n",
       "      <td>Lahore</td>\n",
       "      <td>123</td>\n",
       "      <td>Jawed</td>\n",
       "      <td>3</td>\n",
       "    </tr>\n",
       "    <tr>\n",
       "      <th>2</th>\n",
       "      <td>33</td>\n",
       "      <td>Huzaifa</td>\n",
       "      <td>Karachi</td>\n",
       "      <td>145</td>\n",
       "      <td>Najam</td>\n",
       "      <td>4</td>\n",
       "    </tr>\n",
       "    <tr>\n",
       "      <th>3</th>\n",
       "      <td>4</td>\n",
       "      <td>Asad</td>\n",
       "      <td>Lahore</td>\n",
       "      <td>567</td>\n",
       "      <td>Najam</td>\n",
       "      <td>5</td>\n",
       "    </tr>\n",
       "    <tr>\n",
       "      <th>4</th>\n",
       "      <td>55</td>\n",
       "      <td>Hussain</td>\n",
       "      <td>Hyderabad</td>\n",
       "      <td>234</td>\n",
       "      <td>Jawed</td>\n",
       "      <td>6</td>\n",
       "    </tr>\n",
       "    <tr>\n",
       "      <th>5</th>\n",
       "      <td>66</td>\n",
       "      <td>Ali</td>\n",
       "      <td>Hyderabad</td>\n",
       "      <td>234</td>\n",
       "      <td>Faisal</td>\n",
       "      <td>7</td>\n",
       "    </tr>\n",
       "    <tr>\n",
       "      <th>6</th>\n",
       "      <td>77</td>\n",
       "      <td>Sadaf</td>\n",
       "      <td>Lahore</td>\n",
       "      <td>567</td>\n",
       "      <td>Faisal</td>\n",
       "      <td>8</td>\n",
       "    </tr>\n",
       "    <tr>\n",
       "      <th>7</th>\n",
       "      <td>88</td>\n",
       "      <td>Kiran</td>\n",
       "      <td>Karachi</td>\n",
       "      <td>345</td>\n",
       "      <td>Najam</td>\n",
       "      <td>9</td>\n",
       "    </tr>\n",
       "    <tr>\n",
       "      <th>8</th>\n",
       "      <td>99</td>\n",
       "      <td>Ali</td>\n",
       "      <td>Karachi</td>\n",
       "      <td>123</td>\n",
       "      <td>Faisal</td>\n",
       "      <td>1</td>\n",
       "    </tr>\n",
       "    <tr>\n",
       "      <th>9</th>\n",
       "      <td>101</td>\n",
       "      <td>Asad</td>\n",
       "      <td>Hyderabad</td>\n",
       "      <td>432</td>\n",
       "      <td>Jawed</td>\n",
       "      <td>4</td>\n",
       "    </tr>\n",
       "    <tr>\n",
       "      <th>10</th>\n",
       "      <td>101</td>\n",
       "      <td>Asad</td>\n",
       "      <td>Hyderabad</td>\n",
       "      <td>432</td>\n",
       "      <td>Jawed</td>\n",
       "      <td>5</td>\n",
       "    </tr>\n",
       "  </tbody>\n",
       "</table>\n",
       "</div>"
      ],
      "text/plain": [
       "    sales_man_id sales_man_name sales_man_city  product_id manager  Experience\n",
       "0              1          Ahmed        Karachi         123   Jawed           2\n",
       "1             22           Umer         Lahore         123   Jawed           3\n",
       "2             33        Huzaifa        Karachi         145   Najam           4\n",
       "3              4           Asad         Lahore         567   Najam           5\n",
       "4             55        Hussain      Hyderabad         234   Jawed           6\n",
       "5             66            Ali      Hyderabad         234  Faisal           7\n",
       "6             77          Sadaf         Lahore         567  Faisal           8\n",
       "7             88          Kiran        Karachi         345   Najam           9\n",
       "8             99            Ali        Karachi         123  Faisal           1\n",
       "9            101           Asad      Hyderabad         432   Jawed           4\n",
       "10           101           Asad      Hyderabad         432   Jawed           5"
      ]
     },
     "execution_count": 90,
     "metadata": {},
     "output_type": "execute_result"
    }
   ],
   "source": [
    "df1"
   ]
  },
  {
   "cell_type": "code",
   "execution_count": 91,
   "id": "73c9653c",
   "metadata": {},
   "outputs": [
    {
     "data": {
      "text/html": [
       "<div>\n",
       "<style scoped>\n",
       "    .dataframe tbody tr th:only-of-type {\n",
       "        vertical-align: middle;\n",
       "    }\n",
       "\n",
       "    .dataframe tbody tr th {\n",
       "        vertical-align: top;\n",
       "    }\n",
       "\n",
       "    .dataframe thead th {\n",
       "        text-align: right;\n",
       "    }\n",
       "</style>\n",
       "<table border=\"1\" class=\"dataframe\">\n",
       "  <thead>\n",
       "    <tr style=\"text-align: right;\">\n",
       "      <th></th>\n",
       "      <th>sales_man_name</th>\n",
       "      <th>Region</th>\n",
       "      <th>Sales</th>\n",
       "      <th>Amount</th>\n",
       "    </tr>\n",
       "  </thead>\n",
       "  <tbody>\n",
       "    <tr>\n",
       "      <th>0</th>\n",
       "      <td>Asad</td>\n",
       "      <td>A</td>\n",
       "      <td>100</td>\n",
       "      <td>100000</td>\n",
       "    </tr>\n",
       "    <tr>\n",
       "      <th>1</th>\n",
       "      <td>Hussain</td>\n",
       "      <td>B</td>\n",
       "      <td>300</td>\n",
       "      <td>450000</td>\n",
       "    </tr>\n",
       "    <tr>\n",
       "      <th>2</th>\n",
       "      <td>Ali</td>\n",
       "      <td>C</td>\n",
       "      <td>234</td>\n",
       "      <td>125000</td>\n",
       "    </tr>\n",
       "    <tr>\n",
       "      <th>3</th>\n",
       "      <td>Sana</td>\n",
       "      <td>D</td>\n",
       "      <td>231</td>\n",
       "      <td>652000</td>\n",
       "    </tr>\n",
       "    <tr>\n",
       "      <th>4</th>\n",
       "      <td>Fatima</td>\n",
       "      <td>E</td>\n",
       "      <td>324</td>\n",
       "      <td>145000</td>\n",
       "    </tr>\n",
       "    <tr>\n",
       "      <th>5</th>\n",
       "      <td>Kashif</td>\n",
       "      <td>F</td>\n",
       "      <td>123</td>\n",
       "      <td>825000</td>\n",
       "    </tr>\n",
       "    <tr>\n",
       "      <th>6</th>\n",
       "      <td>Hassan</td>\n",
       "      <td>G</td>\n",
       "      <td>129</td>\n",
       "      <td>125000</td>\n",
       "    </tr>\n",
       "    <tr>\n",
       "      <th>7</th>\n",
       "      <td>Almas</td>\n",
       "      <td>H</td>\n",
       "      <td>345</td>\n",
       "      <td>325600</td>\n",
       "    </tr>\n",
       "    <tr>\n",
       "      <th>8</th>\n",
       "      <td>Fahan</td>\n",
       "      <td>I</td>\n",
       "      <td>400</td>\n",
       "      <td>895200</td>\n",
       "    </tr>\n",
       "  </tbody>\n",
       "</table>\n",
       "</div>"
      ],
      "text/plain": [
       "  sales_man_name Region   Sales  Amount \n",
       "0           Asad       A    100   100000\n",
       "1        Hussain       B    300   450000\n",
       "2            Ali       C    234   125000\n",
       "3           Sana       D    231   652000\n",
       "4        Fatima        E    324   145000\n",
       "5         Kashif       F    123   825000\n",
       "6         Hassan       G    129   125000\n",
       "7          Almas       H    345   325600\n",
       "8          Fahan       I    400   895200"
      ]
     },
     "execution_count": 91,
     "metadata": {},
     "output_type": "execute_result"
    }
   ],
   "source": [
    "df2"
   ]
  },
  {
   "cell_type": "code",
   "execution_count": 94,
   "id": "e6f37620",
   "metadata": {},
   "outputs": [],
   "source": [
    "concatenated_data =pd.concat([df0,df1])\n",
    "concatenated_data.reset_index(drop=True,inplace=True)"
   ]
  },
  {
   "cell_type": "code",
   "execution_count": 95,
   "id": "ba91847d",
   "metadata": {},
   "outputs": [
    {
     "data": {
      "text/html": [
       "<div>\n",
       "<style scoped>\n",
       "    .dataframe tbody tr th:only-of-type {\n",
       "        vertical-align: middle;\n",
       "    }\n",
       "\n",
       "    .dataframe tbody tr th {\n",
       "        vertical-align: top;\n",
       "    }\n",
       "\n",
       "    .dataframe thead th {\n",
       "        text-align: right;\n",
       "    }\n",
       "</style>\n",
       "<table border=\"1\" class=\"dataframe\">\n",
       "  <thead>\n",
       "    <tr style=\"text-align: right;\">\n",
       "      <th></th>\n",
       "      <th>sales_man_id</th>\n",
       "      <th>sales_man_name</th>\n",
       "      <th>sales_man_city</th>\n",
       "      <th>product_id</th>\n",
       "      <th>manager</th>\n",
       "      <th>Experience</th>\n",
       "    </tr>\n",
       "  </thead>\n",
       "  <tbody>\n",
       "    <tr>\n",
       "      <th>0</th>\n",
       "      <td>1</td>\n",
       "      <td>Asad</td>\n",
       "      <td>Karachi</td>\n",
       "      <td>123</td>\n",
       "      <td>Jawed</td>\n",
       "      <td>NaN</td>\n",
       "    </tr>\n",
       "    <tr>\n",
       "      <th>1</th>\n",
       "      <td>2</td>\n",
       "      <td>Sumair</td>\n",
       "      <td>Lahore</td>\n",
       "      <td>123</td>\n",
       "      <td>Jawed</td>\n",
       "      <td>NaN</td>\n",
       "    </tr>\n",
       "    <tr>\n",
       "      <th>2</th>\n",
       "      <td>3</td>\n",
       "      <td>Farjad</td>\n",
       "      <td>Karachi</td>\n",
       "      <td>145</td>\n",
       "      <td>Najam</td>\n",
       "      <td>NaN</td>\n",
       "    </tr>\n",
       "    <tr>\n",
       "      <th>3</th>\n",
       "      <td>4</td>\n",
       "      <td>Hassan</td>\n",
       "      <td>Lahore</td>\n",
       "      <td>567</td>\n",
       "      <td>Najam</td>\n",
       "      <td>NaN</td>\n",
       "    </tr>\n",
       "    <tr>\n",
       "      <th>4</th>\n",
       "      <td>5</td>\n",
       "      <td>Nasir</td>\n",
       "      <td>Hyderabad</td>\n",
       "      <td>234</td>\n",
       "      <td>Jawed</td>\n",
       "      <td>NaN</td>\n",
       "    </tr>\n",
       "    <tr>\n",
       "      <th>5</th>\n",
       "      <td>6</td>\n",
       "      <td>Kashif</td>\n",
       "      <td>Hyderabad</td>\n",
       "      <td>234</td>\n",
       "      <td>Faisal</td>\n",
       "      <td>NaN</td>\n",
       "    </tr>\n",
       "    <tr>\n",
       "      <th>6</th>\n",
       "      <td>7</td>\n",
       "      <td>Sana</td>\n",
       "      <td>Lahore</td>\n",
       "      <td>567</td>\n",
       "      <td>Faisal</td>\n",
       "      <td>NaN</td>\n",
       "    </tr>\n",
       "    <tr>\n",
       "      <th>7</th>\n",
       "      <td>8</td>\n",
       "      <td>Fatima</td>\n",
       "      <td>Karachi</td>\n",
       "      <td>345</td>\n",
       "      <td>Najam</td>\n",
       "      <td>NaN</td>\n",
       "    </tr>\n",
       "    <tr>\n",
       "      <th>8</th>\n",
       "      <td>9</td>\n",
       "      <td>Abdullah</td>\n",
       "      <td>Karachi</td>\n",
       "      <td>123</td>\n",
       "      <td>Faisal</td>\n",
       "      <td>NaN</td>\n",
       "    </tr>\n",
       "    <tr>\n",
       "      <th>9</th>\n",
       "      <td>1</td>\n",
       "      <td>Ahmed</td>\n",
       "      <td>Karachi</td>\n",
       "      <td>123</td>\n",
       "      <td>Jawed</td>\n",
       "      <td>2.0</td>\n",
       "    </tr>\n",
       "    <tr>\n",
       "      <th>10</th>\n",
       "      <td>22</td>\n",
       "      <td>Umer</td>\n",
       "      <td>Lahore</td>\n",
       "      <td>123</td>\n",
       "      <td>Jawed</td>\n",
       "      <td>3.0</td>\n",
       "    </tr>\n",
       "    <tr>\n",
       "      <th>11</th>\n",
       "      <td>33</td>\n",
       "      <td>Huzaifa</td>\n",
       "      <td>Karachi</td>\n",
       "      <td>145</td>\n",
       "      <td>Najam</td>\n",
       "      <td>4.0</td>\n",
       "    </tr>\n",
       "    <tr>\n",
       "      <th>12</th>\n",
       "      <td>4</td>\n",
       "      <td>Asad</td>\n",
       "      <td>Lahore</td>\n",
       "      <td>567</td>\n",
       "      <td>Najam</td>\n",
       "      <td>5.0</td>\n",
       "    </tr>\n",
       "    <tr>\n",
       "      <th>13</th>\n",
       "      <td>55</td>\n",
       "      <td>Hussain</td>\n",
       "      <td>Hyderabad</td>\n",
       "      <td>234</td>\n",
       "      <td>Jawed</td>\n",
       "      <td>6.0</td>\n",
       "    </tr>\n",
       "    <tr>\n",
       "      <th>14</th>\n",
       "      <td>66</td>\n",
       "      <td>Ali</td>\n",
       "      <td>Hyderabad</td>\n",
       "      <td>234</td>\n",
       "      <td>Faisal</td>\n",
       "      <td>7.0</td>\n",
       "    </tr>\n",
       "    <tr>\n",
       "      <th>15</th>\n",
       "      <td>77</td>\n",
       "      <td>Sadaf</td>\n",
       "      <td>Lahore</td>\n",
       "      <td>567</td>\n",
       "      <td>Faisal</td>\n",
       "      <td>8.0</td>\n",
       "    </tr>\n",
       "    <tr>\n",
       "      <th>16</th>\n",
       "      <td>88</td>\n",
       "      <td>Kiran</td>\n",
       "      <td>Karachi</td>\n",
       "      <td>345</td>\n",
       "      <td>Najam</td>\n",
       "      <td>9.0</td>\n",
       "    </tr>\n",
       "    <tr>\n",
       "      <th>17</th>\n",
       "      <td>99</td>\n",
       "      <td>Ali</td>\n",
       "      <td>Karachi</td>\n",
       "      <td>123</td>\n",
       "      <td>Faisal</td>\n",
       "      <td>1.0</td>\n",
       "    </tr>\n",
       "    <tr>\n",
       "      <th>18</th>\n",
       "      <td>101</td>\n",
       "      <td>Asad</td>\n",
       "      <td>Hyderabad</td>\n",
       "      <td>432</td>\n",
       "      <td>Jawed</td>\n",
       "      <td>4.0</td>\n",
       "    </tr>\n",
       "    <tr>\n",
       "      <th>19</th>\n",
       "      <td>101</td>\n",
       "      <td>Asad</td>\n",
       "      <td>Hyderabad</td>\n",
       "      <td>432</td>\n",
       "      <td>Jawed</td>\n",
       "      <td>5.0</td>\n",
       "    </tr>\n",
       "  </tbody>\n",
       "</table>\n",
       "</div>"
      ],
      "text/plain": [
       "    sales_man_id sales_man_name sales_man_city  product_id manager  Experience\n",
       "0              1           Asad        Karachi         123   Jawed         NaN\n",
       "1              2         Sumair         Lahore         123   Jawed         NaN\n",
       "2              3         Farjad        Karachi         145   Najam         NaN\n",
       "3              4         Hassan         Lahore         567   Najam         NaN\n",
       "4              5          Nasir      Hyderabad         234   Jawed         NaN\n",
       "5              6         Kashif      Hyderabad         234  Faisal         NaN\n",
       "6              7           Sana         Lahore         567  Faisal         NaN\n",
       "7              8         Fatima        Karachi         345   Najam         NaN\n",
       "8              9       Abdullah        Karachi         123  Faisal         NaN\n",
       "9              1          Ahmed        Karachi         123   Jawed         2.0\n",
       "10            22           Umer         Lahore         123   Jawed         3.0\n",
       "11            33        Huzaifa        Karachi         145   Najam         4.0\n",
       "12             4           Asad         Lahore         567   Najam         5.0\n",
       "13            55        Hussain      Hyderabad         234   Jawed         6.0\n",
       "14            66            Ali      Hyderabad         234  Faisal         7.0\n",
       "15            77          Sadaf         Lahore         567  Faisal         8.0\n",
       "16            88          Kiran        Karachi         345   Najam         9.0\n",
       "17            99            Ali        Karachi         123  Faisal         1.0\n",
       "18           101           Asad      Hyderabad         432   Jawed         4.0\n",
       "19           101           Asad      Hyderabad         432   Jawed         5.0"
      ]
     },
     "execution_count": 95,
     "metadata": {},
     "output_type": "execute_result"
    }
   ],
   "source": [
    "concatenated_data"
   ]
  },
  {
   "cell_type": "code",
   "execution_count": 96,
   "id": "80f36089",
   "metadata": {},
   "outputs": [],
   "source": [
    "concatenated_data =pd.concat([df0,df1],axis=1)\n",
    "concatenated_data.reset_index(drop=True,inplace=True)"
   ]
  },
  {
   "cell_type": "code",
   "execution_count": 97,
   "id": "4fcf6364",
   "metadata": {},
   "outputs": [
    {
     "data": {
      "text/html": [
       "<div>\n",
       "<style scoped>\n",
       "    .dataframe tbody tr th:only-of-type {\n",
       "        vertical-align: middle;\n",
       "    }\n",
       "\n",
       "    .dataframe tbody tr th {\n",
       "        vertical-align: top;\n",
       "    }\n",
       "\n",
       "    .dataframe thead th {\n",
       "        text-align: right;\n",
       "    }\n",
       "</style>\n",
       "<table border=\"1\" class=\"dataframe\">\n",
       "  <thead>\n",
       "    <tr style=\"text-align: right;\">\n",
       "      <th></th>\n",
       "      <th>sales_man_id</th>\n",
       "      <th>sales_man_name</th>\n",
       "      <th>sales_man_city</th>\n",
       "      <th>product_id</th>\n",
       "      <th>manager</th>\n",
       "      <th>sales_man_id</th>\n",
       "      <th>sales_man_name</th>\n",
       "      <th>sales_man_city</th>\n",
       "      <th>product_id</th>\n",
       "      <th>manager</th>\n",
       "      <th>Experience</th>\n",
       "    </tr>\n",
       "  </thead>\n",
       "  <tbody>\n",
       "    <tr>\n",
       "      <th>0</th>\n",
       "      <td>1.0</td>\n",
       "      <td>Asad</td>\n",
       "      <td>Karachi</td>\n",
       "      <td>123.0</td>\n",
       "      <td>Jawed</td>\n",
       "      <td>1</td>\n",
       "      <td>Ahmed</td>\n",
       "      <td>Karachi</td>\n",
       "      <td>123</td>\n",
       "      <td>Jawed</td>\n",
       "      <td>2</td>\n",
       "    </tr>\n",
       "    <tr>\n",
       "      <th>1</th>\n",
       "      <td>2.0</td>\n",
       "      <td>Sumair</td>\n",
       "      <td>Lahore</td>\n",
       "      <td>123.0</td>\n",
       "      <td>Jawed</td>\n",
       "      <td>22</td>\n",
       "      <td>Umer</td>\n",
       "      <td>Lahore</td>\n",
       "      <td>123</td>\n",
       "      <td>Jawed</td>\n",
       "      <td>3</td>\n",
       "    </tr>\n",
       "    <tr>\n",
       "      <th>2</th>\n",
       "      <td>3.0</td>\n",
       "      <td>Farjad</td>\n",
       "      <td>Karachi</td>\n",
       "      <td>145.0</td>\n",
       "      <td>Najam</td>\n",
       "      <td>33</td>\n",
       "      <td>Huzaifa</td>\n",
       "      <td>Karachi</td>\n",
       "      <td>145</td>\n",
       "      <td>Najam</td>\n",
       "      <td>4</td>\n",
       "    </tr>\n",
       "    <tr>\n",
       "      <th>3</th>\n",
       "      <td>4.0</td>\n",
       "      <td>Hassan</td>\n",
       "      <td>Lahore</td>\n",
       "      <td>567.0</td>\n",
       "      <td>Najam</td>\n",
       "      <td>4</td>\n",
       "      <td>Asad</td>\n",
       "      <td>Lahore</td>\n",
       "      <td>567</td>\n",
       "      <td>Najam</td>\n",
       "      <td>5</td>\n",
       "    </tr>\n",
       "    <tr>\n",
       "      <th>4</th>\n",
       "      <td>5.0</td>\n",
       "      <td>Nasir</td>\n",
       "      <td>Hyderabad</td>\n",
       "      <td>234.0</td>\n",
       "      <td>Jawed</td>\n",
       "      <td>55</td>\n",
       "      <td>Hussain</td>\n",
       "      <td>Hyderabad</td>\n",
       "      <td>234</td>\n",
       "      <td>Jawed</td>\n",
       "      <td>6</td>\n",
       "    </tr>\n",
       "    <tr>\n",
       "      <th>5</th>\n",
       "      <td>6.0</td>\n",
       "      <td>Kashif</td>\n",
       "      <td>Hyderabad</td>\n",
       "      <td>234.0</td>\n",
       "      <td>Faisal</td>\n",
       "      <td>66</td>\n",
       "      <td>Ali</td>\n",
       "      <td>Hyderabad</td>\n",
       "      <td>234</td>\n",
       "      <td>Faisal</td>\n",
       "      <td>7</td>\n",
       "    </tr>\n",
       "    <tr>\n",
       "      <th>6</th>\n",
       "      <td>7.0</td>\n",
       "      <td>Sana</td>\n",
       "      <td>Lahore</td>\n",
       "      <td>567.0</td>\n",
       "      <td>Faisal</td>\n",
       "      <td>77</td>\n",
       "      <td>Sadaf</td>\n",
       "      <td>Lahore</td>\n",
       "      <td>567</td>\n",
       "      <td>Faisal</td>\n",
       "      <td>8</td>\n",
       "    </tr>\n",
       "    <tr>\n",
       "      <th>7</th>\n",
       "      <td>8.0</td>\n",
       "      <td>Fatima</td>\n",
       "      <td>Karachi</td>\n",
       "      <td>345.0</td>\n",
       "      <td>Najam</td>\n",
       "      <td>88</td>\n",
       "      <td>Kiran</td>\n",
       "      <td>Karachi</td>\n",
       "      <td>345</td>\n",
       "      <td>Najam</td>\n",
       "      <td>9</td>\n",
       "    </tr>\n",
       "    <tr>\n",
       "      <th>8</th>\n",
       "      <td>9.0</td>\n",
       "      <td>Abdullah</td>\n",
       "      <td>Karachi</td>\n",
       "      <td>123.0</td>\n",
       "      <td>Faisal</td>\n",
       "      <td>99</td>\n",
       "      <td>Ali</td>\n",
       "      <td>Karachi</td>\n",
       "      <td>123</td>\n",
       "      <td>Faisal</td>\n",
       "      <td>1</td>\n",
       "    </tr>\n",
       "    <tr>\n",
       "      <th>9</th>\n",
       "      <td>NaN</td>\n",
       "      <td>NaN</td>\n",
       "      <td>NaN</td>\n",
       "      <td>NaN</td>\n",
       "      <td>NaN</td>\n",
       "      <td>101</td>\n",
       "      <td>Asad</td>\n",
       "      <td>Hyderabad</td>\n",
       "      <td>432</td>\n",
       "      <td>Jawed</td>\n",
       "      <td>4</td>\n",
       "    </tr>\n",
       "    <tr>\n",
       "      <th>10</th>\n",
       "      <td>NaN</td>\n",
       "      <td>NaN</td>\n",
       "      <td>NaN</td>\n",
       "      <td>NaN</td>\n",
       "      <td>NaN</td>\n",
       "      <td>101</td>\n",
       "      <td>Asad</td>\n",
       "      <td>Hyderabad</td>\n",
       "      <td>432</td>\n",
       "      <td>Jawed</td>\n",
       "      <td>5</td>\n",
       "    </tr>\n",
       "  </tbody>\n",
       "</table>\n",
       "</div>"
      ],
      "text/plain": [
       "    sales_man_id sales_man_name sales_man_city  product_id manager  \\\n",
       "0            1.0           Asad        Karachi       123.0   Jawed   \n",
       "1            2.0         Sumair         Lahore       123.0   Jawed   \n",
       "2            3.0         Farjad        Karachi       145.0   Najam   \n",
       "3            4.0         Hassan         Lahore       567.0   Najam   \n",
       "4            5.0          Nasir      Hyderabad       234.0   Jawed   \n",
       "5            6.0         Kashif      Hyderabad       234.0  Faisal   \n",
       "6            7.0           Sana         Lahore       567.0  Faisal   \n",
       "7            8.0         Fatima        Karachi       345.0   Najam   \n",
       "8            9.0       Abdullah        Karachi       123.0  Faisal   \n",
       "9            NaN            NaN            NaN         NaN     NaN   \n",
       "10           NaN            NaN            NaN         NaN     NaN   \n",
       "\n",
       "    sales_man_id sales_man_name sales_man_city  product_id manager  Experience  \n",
       "0              1          Ahmed        Karachi         123   Jawed           2  \n",
       "1             22           Umer         Lahore         123   Jawed           3  \n",
       "2             33        Huzaifa        Karachi         145   Najam           4  \n",
       "3              4           Asad         Lahore         567   Najam           5  \n",
       "4             55        Hussain      Hyderabad         234   Jawed           6  \n",
       "5             66            Ali      Hyderabad         234  Faisal           7  \n",
       "6             77          Sadaf         Lahore         567  Faisal           8  \n",
       "7             88          Kiran        Karachi         345   Najam           9  \n",
       "8             99            Ali        Karachi         123  Faisal           1  \n",
       "9            101           Asad      Hyderabad         432   Jawed           4  \n",
       "10           101           Asad      Hyderabad         432   Jawed           5  "
      ]
     },
     "execution_count": 97,
     "metadata": {},
     "output_type": "execute_result"
    }
   ],
   "source": [
    "concatenated_data"
   ]
  },
  {
   "cell_type": "code",
   "execution_count": 99,
   "id": "b8c4e81f",
   "metadata": {},
   "outputs": [],
   "source": [
    "concatenated_data.to_excel(\"reqdata.xlsx\")"
   ]
  },
  {
   "cell_type": "code",
   "execution_count": null,
   "id": "600e06e9",
   "metadata": {},
   "outputs": [],
   "source": []
  }
 ],
 "metadata": {
  "kernelspec": {
   "display_name": "Python 3 (ipykernel)",
   "language": "python",
   "name": "python3"
  },
  "language_info": {
   "codemirror_mode": {
    "name": "ipython",
    "version": 3
   },
   "file_extension": ".py",
   "mimetype": "text/x-python",
   "name": "python",
   "nbconvert_exporter": "python",
   "pygments_lexer": "ipython3",
   "version": "3.11.7"
  }
 },
 "nbformat": 4,
 "nbformat_minor": 5
}
