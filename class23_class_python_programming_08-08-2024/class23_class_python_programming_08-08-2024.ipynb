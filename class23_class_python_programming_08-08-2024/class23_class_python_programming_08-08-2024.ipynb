{
 "cells": [
  {
   "cell_type": "markdown",
   "id": "897a5603-d611-45d4-b521-4390e40c977c",
   "metadata": {},
   "source": [
    "# Object Oriented Programming (OOP)"
   ]
  },
  {
   "cell_type": "code",
   "execution_count": 1,
   "id": "d7183ab0-fb91-4c28-b580-531198dc2c57",
   "metadata": {},
   "outputs": [],
   "source": [
    "class Car():\n",
    "    name= \"colrolla\"\n",
    "    engine=\"1500CC\"\n",
    "    year = 2008\n",
    "    model = 2006\n",
    "\n",
    "\n",
    "    def start(self):\n",
    "        print(f\"{self.name} starts\")\n",
    "    def stop(self):\n",
    "        print(f\"{self.name} stops\")"
   ]
  },
  {
   "cell_type": "code",
   "execution_count": 2,
   "id": "49d51eb9-cc7b-4872-a74a-d520ac14c863",
   "metadata": {},
   "outputs": [],
   "source": [
    "car_1 = Car()"
   ]
  },
  {
   "cell_type": "code",
   "execution_count": 4,
   "id": "230d2147-f2d7-4b71-ac77-e72974016581",
   "metadata": {},
   "outputs": [
    {
     "name": "stdout",
     "output_type": "stream",
     "text": [
      "colrolla\n"
     ]
    }
   ],
   "source": [
    "print(car_1.name)"
   ]
  },
  {
   "cell_type": "code",
   "execution_count": 5,
   "id": "fe2af0d2-03ea-4563-8840-0d03973a90aa",
   "metadata": {},
   "outputs": [],
   "source": [
    "car_1.name=\"Supra\""
   ]
  },
  {
   "cell_type": "code",
   "execution_count": 6,
   "id": "2b92d088-f309-41ac-a764-a01bfa3d16b4",
   "metadata": {},
   "outputs": [
    {
     "name": "stdout",
     "output_type": "stream",
     "text": [
      "Supra\n"
     ]
    }
   ],
   "source": [
    "print(car_1.name)"
   ]
  },
  {
   "cell_type": "code",
   "execution_count": 28,
   "id": "bd19780b-93bf-42a9-8ec8-d334b1d6bf91",
   "metadata": {},
   "outputs": [],
   "source": [
    "class Car():\n",
    "    def __init__(self,model,make,year,engine_type,color,cc):\n",
    "        self.model = model\n",
    "        self.make = make\n",
    "        self.year = year\n",
    "        self.engine_type = engine_type\n",
    "        self.color = color\n",
    "        self.cc = cc\n",
    "\n",
    "    def start_car(self):\n",
    "        print(f\"{self.model} starting\" )"
   ]
  },
  {
   "cell_type": "code",
   "execution_count": 29,
   "id": "8f0662d9-bd46-4cd6-a8a9-8cd95044b831",
   "metadata": {},
   "outputs": [],
   "source": [
    "car1 = Car(\"colrolla\",\"honda\",2008,\"Diesel\",\"black\",1800)"
   ]
  },
  {
   "cell_type": "code",
   "execution_count": 30,
   "id": "b3c2305c-3269-467f-a11e-4bd65c5e50ff",
   "metadata": {},
   "outputs": [
    {
     "name": "stdout",
     "output_type": "stream",
     "text": [
      "colrolla starting\n"
     ]
    }
   ],
   "source": [
    "car1.start_car()"
   ]
  },
  {
   "cell_type": "code",
   "execution_count": 31,
   "id": "7a4d111c-b811-439e-9c17-cf30ae9def12",
   "metadata": {},
   "outputs": [
    {
     "name": "stdout",
     "output_type": "stream",
     "text": [
      "colrolla starting\n"
     ]
    }
   ],
   "source": [
    "Car1.start_car(car1)"
   ]
  },
  {
   "cell_type": "code",
   "execution_count": 58,
   "id": "ddc0b7c2-ca16-4184-89bf-f788784a49ba",
   "metadata": {},
   "outputs": [],
   "source": [
    "class Bank():\n",
    "    def __init__(self,branch_code,branch_name,manager_name,deposit):\n",
    "        self.branch_name = branch_name\n",
    "        self.branch_code = branch_code\n",
    "        self.manager_name = manager_name\n",
    "        self.deposit = deposit\n",
    "        self.accounts = []\n",
    "        self.no_of_accounts =0\n",
    "\n",
    "    def open_account(self,id,name,amt):\n",
    "        print(f\"\"\"\n",
    "            Account Opened\n",
    "\n",
    "            Title: {name}\n",
    "            Balance: {amt}\n",
    "            Id:{id}\n",
    "            \n",
    "        \"\"\")\n",
    "        self.accounts.append({\"name\":name, \"amt\":amt})\n",
    "        self.no_of_accounts +=1\n",
    "        self.deposit += amt\n",
    "        \n",
    "    def branc_desc(self):\n",
    "        print(f\"\"\"\n",
    "        Branch Code: {self.branch_code}\n",
    "        Branch Name: {self.branch_name}\n",
    "        Manager Name: {self.manager_name}\n",
    "        Deposit: {self.deposit}\n",
    "        \n",
    "        \"\"\")\n",
    "\n",
    "    def deposit_amt(self):\n",
    "        acc_title = input(\"Enter Account Title: \")\n",
    "        deposit_amt = int(input(\"Enter deposit amount\"))\n",
    "        for account in self.accounts:\n",
    "            if(account['name'] == acc_title):\n",
    "                account[\"amt\"] += deposit_amt \n",
    "                self.deposit += deposit_amt\n",
    "        \n",
    "        \n",
    "        \n",
    "\n",
    "br1 = Bank(1001,\"DHA\",\"Ali\",0)\n",
    "br2 = Bank(1002,\"Lal haveli\",\"Sheikh Rasheed\",0)\n",
    "br3 = Bank(1003,\"Baldia\",\"Shaka\",0)"
   ]
  },
  {
   "cell_type": "code",
   "execution_count": 59,
   "id": "a28a41a4-fa45-40ed-98c1-904e96dfcbc8",
   "metadata": {},
   "outputs": [
    {
     "name": "stdout",
     "output_type": "stream",
     "text": [
      "\n",
      "        Branch Code: 1001\n",
      "        Branch Name: DHA\n",
      "        Manager Name: Ali\n",
      "        Deposit: 0\n",
      "        \n",
      "        \n"
     ]
    }
   ],
   "source": [
    "br1.branc_desc()\n"
   ]
  },
  {
   "cell_type": "code",
   "execution_count": 60,
   "id": "5fa7b5f6-7382-4c08-be04-34cc97694616",
   "metadata": {},
   "outputs": [
    {
     "name": "stdout",
     "output_type": "stream",
     "text": [
      "\n",
      "            Account Opened\n",
      "\n",
      "            Title: Hamza\n",
      "            Balance: 2000\n",
      "            Id:1\n",
      "            \n",
      "        \n"
     ]
    }
   ],
   "source": [
    "br1.open_account(1,\"Hamza\",2000)"
   ]
  },
  {
   "cell_type": "code",
   "execution_count": 61,
   "id": "0ed50ba2-28fa-4ff8-a5b8-f409cba031b6",
   "metadata": {},
   "outputs": [
    {
     "name": "stdout",
     "output_type": "stream",
     "text": [
      "\n",
      "        Branch Code: 1001\n",
      "        Branch Name: DHA\n",
      "        Manager Name: Ali\n",
      "        Deposit: 2000\n",
      "        \n",
      "        \n"
     ]
    }
   ],
   "source": [
    "br1.branc_desc()"
   ]
  },
  {
   "cell_type": "code",
   "execution_count": 62,
   "id": "706836d4-a80c-494e-a5ed-5fa1de8da4b5",
   "metadata": {},
   "outputs": [
    {
     "name": "stdin",
     "output_type": "stream",
     "text": [
      "Enter Account Title:  Hamza\n",
      "Enter deposit amount 500\n"
     ]
    }
   ],
   "source": [
    "br1.deposit_amt()"
   ]
  },
  {
   "cell_type": "code",
   "execution_count": 63,
   "id": "0a7418c1-ca38-4919-bff8-6480030bea85",
   "metadata": {},
   "outputs": [
    {
     "name": "stdout",
     "output_type": "stream",
     "text": [
      "\n",
      "        Branch Code: 1001\n",
      "        Branch Name: DHA\n",
      "        Manager Name: Ali\n",
      "        Deposit: 2500\n",
      "        \n",
      "        \n"
     ]
    }
   ],
   "source": [
    "br1.branc_desc()"
   ]
  },
  {
   "cell_type": "code",
   "execution_count": null,
   "id": "824d086f-be7f-4cad-8409-eaa3554f366d",
   "metadata": {},
   "outputs": [],
   "source": []
  },
  {
   "cell_type": "code",
   "execution_count": null,
   "id": "aa320a88-6c14-49ab-b9a8-4f10b0654bb3",
   "metadata": {},
   "outputs": [],
   "source": []
  },
  {
   "cell_type": "code",
   "execution_count": null,
   "id": "a4a29be3-b6f3-469e-bf24-e92e4b0f28f9",
   "metadata": {},
   "outputs": [],
   "source": []
  },
  {
   "cell_type": "code",
   "execution_count": null,
   "id": "b7acaa6f-bbfe-4541-9b6f-3815a453511a",
   "metadata": {},
   "outputs": [],
   "source": []
  },
  {
   "cell_type": "code",
   "execution_count": null,
   "id": "e42ca7ac-d209-4b72-bf06-83fb1b377183",
   "metadata": {},
   "outputs": [],
   "source": []
  }
 ],
 "metadata": {
  "kernelspec": {
   "display_name": "Python 3 (ipykernel)",
   "language": "python",
   "name": "python3"
  },
  "language_info": {
   "codemirror_mode": {
    "name": "ipython",
    "version": 3
   },
   "file_extension": ".py",
   "mimetype": "text/x-python",
   "name": "python",
   "nbconvert_exporter": "python",
   "pygments_lexer": "ipython3",
   "version": "3.11.7"
  }
 },
 "nbformat": 4,
 "nbformat_minor": 5
}
