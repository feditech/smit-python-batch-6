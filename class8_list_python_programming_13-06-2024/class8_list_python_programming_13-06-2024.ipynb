{
 "cells": [
  {
   "cell_type": "markdown",
   "id": "9a4c7b3d-5923-423d-8104-bef0e828cbcf",
   "metadata": {},
   "source": [
    "# list"
   ]
  },
  {
   "cell_type": "code",
   "execution_count": 14,
   "id": "78922b91-b9d5-4092-b528-427dc0a9bfc9",
   "metadata": {},
   "outputs": [],
   "source": [
    "## clear\n",
    "colors =[\"red\",\"blue\" ,\"green\"]"
   ]
  },
  {
   "cell_type": "code",
   "execution_count": 11,
   "id": "20647a78-6f21-42d1-a9ee-569db928f808",
   "metadata": {},
   "outputs": [],
   "source": [
    "colors.clear()"
   ]
  },
  {
   "cell_type": "code",
   "execution_count": 12,
   "id": "0dfada8f-bc28-4992-9dd0-70549f9a9255",
   "metadata": {},
   "outputs": [
    {
     "data": {
      "text/plain": [
       "[]"
      ]
     },
     "execution_count": 12,
     "metadata": {},
     "output_type": "execute_result"
    }
   ],
   "source": [
    "colors"
   ]
  },
  {
   "cell_type": "markdown",
   "id": "e69abc19-a72f-4c9a-8c07-30634492e0b5",
   "metadata": {},
   "source": [
    "### append () "
   ]
  },
  {
   "cell_type": "code",
   "execution_count": 15,
   "id": "9ae96372-84a8-43e8-a328-170f67b33e8b",
   "metadata": {},
   "outputs": [],
   "source": [
    "colors =[\"red\",\"blue\" ,\"green\"]"
   ]
  },
  {
   "cell_type": "code",
   "execution_count": 17,
   "id": "2e073392-c25e-4811-a22b-d16fdce09bb8",
   "metadata": {},
   "outputs": [],
   "source": [
    "colors.append([\"yellow\",\"purple\"])"
   ]
  },
  {
   "cell_type": "code",
   "execution_count": 18,
   "id": "247c7d1c-948d-4408-aac6-f3cc3733a6a9",
   "metadata": {},
   "outputs": [
    {
     "data": {
      "text/plain": [
       "['red', 'blue', 'green', ['yellow', 'purple']]"
      ]
     },
     "execution_count": 18,
     "metadata": {},
     "output_type": "execute_result"
    }
   ],
   "source": [
    "colors"
   ]
  },
  {
   "cell_type": "markdown",
   "id": "9f2d8f04-0881-4a59-aa4d-e860604ae1ee",
   "metadata": {},
   "source": [
    "### extend()"
   ]
  },
  {
   "cell_type": "code",
   "execution_count": 19,
   "id": "1d1d6a83-0542-4f19-b6bf-d4af2a0dbcf3",
   "metadata": {},
   "outputs": [],
   "source": [
    "colors =[\"red\",\"blue\" ,\"green\"]"
   ]
  },
  {
   "cell_type": "code",
   "execution_count": 20,
   "id": "501a02da-efd5-4b95-b35d-1221e82279d2",
   "metadata": {},
   "outputs": [],
   "source": [
    "colors.extend([\"yellow\",\"purple\"])"
   ]
  },
  {
   "cell_type": "code",
   "execution_count": 21,
   "id": "88751860-9d3b-4230-b2e7-61c2a5c78555",
   "metadata": {},
   "outputs": [
    {
     "data": {
      "text/plain": [
       "['red', 'blue', 'green', 'yellow', 'purple']"
      ]
     },
     "execution_count": 21,
     "metadata": {},
     "output_type": "execute_result"
    }
   ],
   "source": [
    "colors"
   ]
  },
  {
   "cell_type": "markdown",
   "id": "3a764d26-90db-4c1e-8a40-97d0149ab9c5",
   "metadata": {},
   "source": [
    "### Access List Items"
   ]
  },
  {
   "cell_type": "code",
   "execution_count": 22,
   "id": "18362711-6510-43bb-b8e5-1547e85939ea",
   "metadata": {},
   "outputs": [
    {
     "data": {
      "text/plain": [
       "'blue'"
      ]
     },
     "execution_count": 22,
     "metadata": {},
     "output_type": "execute_result"
    }
   ],
   "source": [
    "colors[1]"
   ]
  },
  {
   "cell_type": "code",
   "execution_count": 23,
   "id": "5ce082d5-8782-4d88-ac65-6b1f96c00e8e",
   "metadata": {},
   "outputs": [
    {
     "data": {
      "text/plain": [
       "'purple'"
      ]
     },
     "execution_count": 23,
     "metadata": {},
     "output_type": "execute_result"
    }
   ],
   "source": [
    "colors[-1]"
   ]
  },
  {
   "cell_type": "code",
   "execution_count": 24,
   "id": "33c081dd-f42a-4b20-ab76-13c71c6231f8",
   "metadata": {},
   "outputs": [
    {
     "ename": "IndexError",
     "evalue": "list index out of range",
     "output_type": "error",
     "traceback": [
      "\u001b[1;31m---------------------------------------------------------------------------\u001b[0m",
      "\u001b[1;31mIndexError\u001b[0m                                Traceback (most recent call last)",
      "Cell \u001b[1;32mIn[24], line 1\u001b[0m\n\u001b[1;32m----> 1\u001b[0m colors[\u001b[38;5;241m12\u001b[39m]\n",
      "\u001b[1;31mIndexError\u001b[0m: list index out of range"
     ]
    }
   ],
   "source": [
    "colors[12]"
   ]
  },
  {
   "cell_type": "markdown",
   "id": "454b712d-1598-4aa0-bc6b-48795d02d536",
   "metadata": {},
   "source": [
    "### access via range listname[starting index (included) , ending index (not included)]"
   ]
  },
  {
   "cell_type": "code",
   "execution_count": 28,
   "id": "d8a77058-20b9-4e9e-8aef-c8c101486d90",
   "metadata": {},
   "outputs": [
    {
     "data": {
      "text/plain": [
       "['red', 'blue', 'green', 'yellow', 'purple']"
      ]
     },
     "execution_count": 28,
     "metadata": {},
     "output_type": "execute_result"
    }
   ],
   "source": [
    "colors"
   ]
  },
  {
   "cell_type": "code",
   "execution_count": 34,
   "id": "f86c6199-cfe6-4ec3-a84e-d314fbe1c3ad",
   "metadata": {},
   "outputs": [
    {
     "data": {
      "text/plain": [
       "['green', 'yellow', 'purple']"
      ]
     },
     "execution_count": 34,
     "metadata": {},
     "output_type": "execute_result"
    }
   ],
   "source": [
    "colors[2:len(colors)]"
   ]
  },
  {
   "cell_type": "code",
   "execution_count": 37,
   "id": "9e73c4aa-4a9e-4ac6-aa26-df0251e7545c",
   "metadata": {},
   "outputs": [
    {
     "data": {
      "text/plain": [
       "['red', 'blue']"
      ]
     },
     "execution_count": 37,
     "metadata": {},
     "output_type": "execute_result"
    }
   ],
   "source": [
    "colors[:2]"
   ]
  },
  {
   "cell_type": "code",
   "execution_count": 42,
   "id": "d35f0b5c-1096-43b2-b1a1-35faa1da4f0b",
   "metadata": {},
   "outputs": [
    {
     "data": {
      "text/plain": [
       "['red', 'yellow']"
      ]
     },
     "execution_count": 42,
     "metadata": {},
     "output_type": "execute_result"
    }
   ],
   "source": [
    "colors[::3]"
   ]
  },
  {
   "cell_type": "code",
   "execution_count": 43,
   "id": "a0ba5091-f80e-494c-bb75-85acc22a79b0",
   "metadata": {},
   "outputs": [
    {
     "data": {
      "text/plain": [
       "['blue', 'purple']"
      ]
     },
     "execution_count": 43,
     "metadata": {},
     "output_type": "execute_result"
    }
   ],
   "source": [
    "colors[1::3]"
   ]
  },
  {
   "cell_type": "markdown",
   "id": "800bec74-e73c-4aa3-ae47-0a40aa99aef0",
   "metadata": {},
   "source": [
    "## check if an item is present in list"
   ]
  },
  {
   "cell_type": "code",
   "execution_count": 45,
   "id": "321e033a-5bdb-4c8f-8064-ec69fab5b3c4",
   "metadata": {},
   "outputs": [
    {
     "data": {
      "text/plain": [
       "True"
      ]
     },
     "execution_count": 45,
     "metadata": {},
     "output_type": "execute_result"
    }
   ],
   "source": [
    "\"red\" in colors"
   ]
  },
  {
   "cell_type": "code",
   "execution_count": 48,
   "id": "059381da-eee2-4de5-b4f0-4eee7de88b8b",
   "metadata": {},
   "outputs": [
    {
     "data": {
      "text/plain": [
       "['blue', 'green', 'yellow']"
      ]
     },
     "execution_count": 48,
     "metadata": {},
     "output_type": "execute_result"
    }
   ],
   "source": [
    "colors[-4:-1]"
   ]
  },
  {
   "cell_type": "code",
   "execution_count": 49,
   "id": "00eaf993-633e-4ad6-a165-dc2074550b92",
   "metadata": {},
   "outputs": [
    {
     "data": {
      "text/plain": [
       "['red', 'blue', 'green', 'yellow', 'purple']"
      ]
     },
     "execution_count": 49,
     "metadata": {},
     "output_type": "execute_result"
    }
   ],
   "source": [
    "colors"
   ]
  },
  {
   "cell_type": "code",
   "execution_count": 51,
   "id": "7ed92df7-f7e5-449c-933e-16151ef8f2ab",
   "metadata": {},
   "outputs": [
    {
     "data": {
      "text/plain": [
       "[]"
      ]
     },
     "execution_count": 51,
     "metadata": {},
     "output_type": "execute_result"
    }
   ],
   "source": [
    "colors[4:2]"
   ]
  },
  {
   "cell_type": "code",
   "execution_count": 52,
   "id": "a0e587ed-38b7-4ab9-ab2c-feba9d1272ec",
   "metadata": {},
   "outputs": [
    {
     "data": {
      "text/plain": [
       "['red', 'blue', 'green', 'yellow', 'purple']"
      ]
     },
     "execution_count": 52,
     "metadata": {},
     "output_type": "execute_result"
    }
   ],
   "source": [
    "colors"
   ]
  },
  {
   "cell_type": "code",
   "execution_count": 53,
   "id": "42be0cf6-7b3f-46a8-85d2-f8ae66d08948",
   "metadata": {},
   "outputs": [
    {
     "data": {
      "text/plain": [
       "5"
      ]
     },
     "execution_count": 53,
     "metadata": {},
     "output_type": "execute_result"
    }
   ],
   "source": [
    "len(colors)"
   ]
  },
  {
   "cell_type": "code",
   "execution_count": 56,
   "id": "3bcc0832-5137-464d-9da3-9582bb71be7d",
   "metadata": {},
   "outputs": [],
   "source": [
    "colors.append(\"grey\")"
   ]
  },
  {
   "cell_type": "code",
   "execution_count": 57,
   "id": "663813e5-9348-49c7-b3e3-dda29ba6c82b",
   "metadata": {},
   "outputs": [
    {
     "data": {
      "text/plain": [
       "['red', 'blue', 'green', 'yellow', 'purple', 'grey']"
      ]
     },
     "execution_count": 57,
     "metadata": {},
     "output_type": "execute_result"
    }
   ],
   "source": [
    "colors"
   ]
  },
  {
   "cell_type": "code",
   "execution_count": 59,
   "id": "98be648c-ac7e-45fa-abd8-09d7507ddef5",
   "metadata": {},
   "outputs": [],
   "source": [
    "colors.insert(6,\"black\")"
   ]
  },
  {
   "cell_type": "code",
   "execution_count": 60,
   "id": "a4c0fe4c-ca2d-4e57-8ef4-180d4befd046",
   "metadata": {},
   "outputs": [
    {
     "data": {
      "text/plain": [
       "['red', 'blue', 'green', 'yellow', 'purple', 'grey', 'black']"
      ]
     },
     "execution_count": 60,
     "metadata": {},
     "output_type": "execute_result"
    }
   ],
   "source": [
    "colors"
   ]
  },
  {
   "cell_type": "markdown",
   "id": "45ac1f94-8413-4636-8fa3-7fa467c01fc3",
   "metadata": {},
   "source": [
    "### Deleting items from a list"
   ]
  },
  {
   "cell_type": "code",
   "execution_count": 61,
   "id": "ed314838-6f67-4b03-bbd0-87224f618975",
   "metadata": {},
   "outputs": [],
   "source": [
    "colors.remove(\"red\")"
   ]
  },
  {
   "cell_type": "code",
   "execution_count": 62,
   "id": "0b78d9c9-0c49-4457-863d-1585bcca0ad3",
   "metadata": {},
   "outputs": [
    {
     "data": {
      "text/plain": [
       "['blue', 'green', 'yellow', 'purple', 'grey', 'black']"
      ]
     },
     "execution_count": 62,
     "metadata": {},
     "output_type": "execute_result"
    }
   ],
   "source": [
    "colors"
   ]
  },
  {
   "cell_type": "code",
   "execution_count": 63,
   "id": "d05c0df5-9aa7-4adc-8ac5-5597736eecec",
   "metadata": {},
   "outputs": [],
   "source": [
    "del colors[2]"
   ]
  },
  {
   "cell_type": "code",
   "execution_count": 64,
   "id": "259bde65-8c2c-4a9a-b639-b1eaa727a4dd",
   "metadata": {},
   "outputs": [
    {
     "data": {
      "text/plain": [
       "['blue', 'green', 'purple', 'grey', 'black']"
      ]
     },
     "execution_count": 64,
     "metadata": {},
     "output_type": "execute_result"
    }
   ],
   "source": [
    "colors"
   ]
  },
  {
   "cell_type": "code",
   "execution_count": 65,
   "id": "e75b0824-c1f8-4812-a33c-b58fed777007",
   "metadata": {},
   "outputs": [
    {
     "data": {
      "text/plain": [
       "'black'"
      ]
     },
     "execution_count": 65,
     "metadata": {},
     "output_type": "execute_result"
    }
   ],
   "source": [
    "colors.pop()"
   ]
  },
  {
   "cell_type": "code",
   "execution_count": 66,
   "id": "3be9faa1-a43c-4ba8-8c86-be3100b9f87a",
   "metadata": {},
   "outputs": [
    {
     "data": {
      "text/plain": [
       "['blue', 'green', 'purple', 'grey']"
      ]
     },
     "execution_count": 66,
     "metadata": {},
     "output_type": "execute_result"
    }
   ],
   "source": [
    "colors"
   ]
  },
  {
   "cell_type": "code",
   "execution_count": 67,
   "id": "67ae3ec8-d43f-4672-b174-5faa6be82c76",
   "metadata": {},
   "outputs": [
    {
     "data": {
      "text/plain": [
       "'purple'"
      ]
     },
     "execution_count": 67,
     "metadata": {},
     "output_type": "execute_result"
    }
   ],
   "source": [
    "colors.pop(2)"
   ]
  },
  {
   "cell_type": "code",
   "execution_count": 68,
   "id": "503249fe-7f36-4e46-8626-0d50e4a3e712",
   "metadata": {},
   "outputs": [
    {
     "data": {
      "text/plain": [
       "['blue', 'green', 'grey']"
      ]
     },
     "execution_count": 68,
     "metadata": {},
     "output_type": "execute_result"
    }
   ],
   "source": [
    "colors"
   ]
  },
  {
   "cell_type": "code",
   "execution_count": 69,
   "id": "89858226-4761-4705-bca7-e4360fad1130",
   "metadata": {},
   "outputs": [
    {
     "name": "stdout",
     "output_type": "stream",
     "text": [
      "blue\n",
      "green\n",
      "grey\n"
     ]
    }
   ],
   "source": [
    "for color in colors:\n",
    "    print(color)"
   ]
  },
  {
   "cell_type": "code",
   "execution_count": 71,
   "id": "c297ea4d-85a7-48c5-91b6-a8816112b31d",
   "metadata": {},
   "outputs": [
    {
     "name": "stdout",
     "output_type": "stream",
     "text": [
      "0\n",
      "1\n"
     ]
    }
   ],
   "source": [
    "for i in range():\n",
    "    print(i)"
   ]
  },
  {
   "cell_type": "code",
   "execution_count": null,
   "id": "999d423e-efe5-4929-9678-ffb992da21b5",
   "metadata": {},
   "outputs": [],
   "source": []
  },
  {
   "cell_type": "code",
   "execution_count": null,
   "id": "c297e9e0-a476-46a2-9750-dd2d86182fb7",
   "metadata": {},
   "outputs": [],
   "source": []
  }
 ],
 "metadata": {
  "kernelspec": {
   "display_name": "Python 3 (ipykernel)",
   "language": "python",
   "name": "python3"
  },
  "language_info": {
   "codemirror_mode": {
    "name": "ipython",
    "version": 3
   },
   "file_extension": ".py",
   "mimetype": "text/x-python",
   "name": "python",
   "nbconvert_exporter": "python",
   "pygments_lexer": "ipython3",
   "version": "3.11.7"
  }
 },
 "nbformat": 4,
 "nbformat_minor": 5
}
