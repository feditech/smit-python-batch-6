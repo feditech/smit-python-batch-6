{
 "cells": [
  {
   "cell_type": "markdown",
   "id": "c8a244da-fd2b-4dd0-af73-26c1d01c60fa",
   "metadata": {},
   "source": [
    "## Strings Methods"
   ]
  },
  {
   "cell_type": "code",
   "execution_count": 11,
   "id": "98095c87-23ba-4d1a-8eb8-47ea9f40362e",
   "metadata": {},
   "outputs": [],
   "source": [
    "text = \"   python Programming    \""
   ]
  },
  {
   "cell_type": "markdown",
   "id": "e001064c-144c-41aa-a133-e7d438777fca",
   "metadata": {},
   "source": [
    "#### Signature: text.capitalize()\r\n",
    "Docstring:\r\n",
    "Return a capitalized version of the string.\r\n",
    "\r\n",
    "More specifically, make the first character have upper case and the rest lower\r\n",
    "case.\r\n",
    "Type:      builtin_function_or_method"
   ]
  },
  {
   "cell_type": "code",
   "execution_count": 8,
   "id": "327d81e1-5624-4bb0-be30-83d723721958",
   "metadata": {},
   "outputs": [
    {
     "data": {
      "text/plain": [
       "'Python programming'"
      ]
     },
     "execution_count": 8,
     "metadata": {},
     "output_type": "execute_result"
    }
   ],
   "source": [
    "text.capitalize()"
   ]
  },
  {
   "cell_type": "markdown",
   "id": "1892eec8-8b88-4c1c-a42d-6170bd610bbe",
   "metadata": {},
   "source": [
    "#### COUNT:\r\n",
    "S.count(sub[, start[, end]]) -> int\r\n",
    "\r\n",
    "Return the number of non-overlapping occurrences of substring sub in\r\n",
    "string S[start:end].  Optional arguments start and end are\r\n",
    "interpreted as in slice notation.\r\n",
    "Type:      builtin_function_or_method"
   ]
  },
  {
   "cell_type": "code",
   "execution_count": 10,
   "id": "65bf4795-1003-44f3-8e80-a2bbcdaa82be",
   "metadata": {},
   "outputs": [
    {
     "data": {
      "text/plain": [
       "1"
      ]
     },
     "execution_count": 10,
     "metadata": {},
     "output_type": "execute_result"
    }
   ],
   "source": [
    "text.count(\"py\")"
   ]
  },
  {
   "cell_type": "code",
   "execution_count": 28,
   "id": "b8c93583-6f86-4fc1-b5f4-c74af78bf49b",
   "metadata": {},
   "outputs": [],
   "source": [
    "text = \"python Programming\""
   ]
  },
  {
   "cell_type": "code",
   "execution_count": 40,
   "id": "fb126ae9-768e-41cc-a90b-f4dcc50376e0",
   "metadata": {},
   "outputs": [
    {
     "data": {
      "text/plain": [
       "'$$$$$$$$$$$$$$$$$$$$$$python Programming'"
      ]
     },
     "execution_count": 40,
     "metadata": {},
     "output_type": "execute_result"
    }
   ],
   "source": [
    "text.rjust(40,\"$\")"
   ]
  },
  {
   "cell_type": "code",
   "execution_count": 35,
   "id": "be148032-1d55-40a4-9832-2b2897ff0d4e",
   "metadata": {},
   "outputs": [],
   "source": [
    "text = \"python Programming\""
   ]
  },
  {
   "cell_type": "code",
   "execution_count": 36,
   "id": "b41b777e-5b8f-4fe4-afc5-70938b96c96a",
   "metadata": {},
   "outputs": [
    {
     "data": {
      "text/plain": [
       "'python Programming$$$$$$$$$$$$'"
      ]
     },
     "execution_count": 36,
     "metadata": {},
     "output_type": "execute_result"
    }
   ],
   "source": [
    "text.ljust(30,\"$\")"
   ]
  },
  {
   "cell_type": "code",
   "execution_count": 39,
   "id": "e7965565-9d3c-4c97-a57a-8961e9067985",
   "metadata": {},
   "outputs": [
    {
     "data": {
      "text/plain": [
       "'$$$$$$python Programming$$$$$$'"
      ]
     },
     "execution_count": 39,
     "metadata": {},
     "output_type": "execute_result"
    }
   ],
   "source": [
    "text.center(30,\"$\")"
   ]
  },
  {
   "cell_type": "code",
   "execution_count": 41,
   "id": "18dae838-5ad9-4a24-bd8d-78c89aabbe07",
   "metadata": {},
   "outputs": [
    {
     "name": "stdout",
     "output_type": "stream",
     "text": [
      "The original string is : \n",
      " Pakistan Zindabad \n",
      "\n",
      "The center aligned string is : \n",
      "           Pakistan Zindabad             \n",
      "\n",
      "Center aligned string with fillchr: \n",
      "###########Pakistan Zindabad############\n"
     ]
    }
   ],
   "source": [
    "# the working of center() \n",
    "  \n",
    "cstr = \"Pakistan Zindabad\"\n",
    "  \n",
    "# Printing the original string \n",
    "print (\"The original string is : \\n\", cstr, \"\\n\") \n",
    "  \n",
    "# Printing the center aligned string  \n",
    "print (\"The center aligned string is : \") \n",
    "print (cstr.center(40), \"\\n\") \n",
    "  \n",
    "# Printing the center aligned  \n",
    "# string with fillchr \n",
    "print (\"Center aligned string with fillchr: \") \n",
    "print (cstr.center(40, '#')) "
   ]
  },
  {
   "cell_type": "code",
   "execution_count": null,
   "id": "28b3e107-48dc-4a94-80cb-bc63c7f63b48",
   "metadata": {},
   "outputs": [],
   "source": []
  },
  {
   "cell_type": "code",
   "execution_count": null,
   "id": "22473c68-d622-4ba2-a2d2-81ab235d7dc0",
   "metadata": {},
   "outputs": [],
   "source": []
  },
  {
   "cell_type": "code",
   "execution_count": null,
   "id": "9ab27b21-a06f-4ad7-9e9c-33b9bf37e757",
   "metadata": {},
   "outputs": [],
   "source": []
  },
  {
   "cell_type": "code",
   "execution_count": null,
   "id": "c042dc81-9135-4139-87e6-97e7d8ceb5a9",
   "metadata": {},
   "outputs": [],
   "source": []
  },
  {
   "cell_type": "code",
   "execution_count": null,
   "id": "73308231-2c06-4457-905f-8af51c80a131",
   "metadata": {},
   "outputs": [],
   "source": []
  },
  {
   "cell_type": "code",
   "execution_count": null,
   "id": "2f243249-1738-49c7-b59b-f54acddce3a5",
   "metadata": {},
   "outputs": [],
   "source": []
  },
  {
   "cell_type": "code",
   "execution_count": null,
   "id": "0bd25e49-3a77-4c70-a7b1-5725e09079da",
   "metadata": {},
   "outputs": [],
   "source": []
  },
  {
   "cell_type": "code",
   "execution_count": null,
   "id": "8a7bb990-7aef-4ac6-a784-1cfb151b71e2",
   "metadata": {},
   "outputs": [],
   "source": []
  },
  {
   "cell_type": "markdown",
   "id": "afc56a09-462b-4de8-9fe3-f8990b1be532",
   "metadata": {},
   "source": []
  }
 ],
 "metadata": {
  "kernelspec": {
   "display_name": "Python 3 (ipykernel)",
   "language": "python",
   "name": "python3"
  },
  "language_info": {
   "codemirror_mode": {
    "name": "ipython",
    "version": 3
   },
   "file_extension": ".py",
   "mimetype": "text/x-python",
   "name": "python",
   "nbconvert_exporter": "python",
   "pygments_lexer": "ipython3",
   "version": "3.11.7"
  }
 },
 "nbformat": 4,
 "nbformat_minor": 5
}
