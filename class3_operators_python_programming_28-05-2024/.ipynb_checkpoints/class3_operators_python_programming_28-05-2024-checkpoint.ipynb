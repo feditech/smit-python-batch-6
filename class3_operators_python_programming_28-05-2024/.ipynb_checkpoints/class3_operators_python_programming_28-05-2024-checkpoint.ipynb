{
 "cells": [
  {
   "cell_type": "code",
   "execution_count": 6,
   "id": "a05f6ea3-7b21-4f3f-82a8-ad0815aab21c",
   "metadata": {},
   "outputs": [
    {
     "name": "stdout",
     "output_type": "stream",
     "text": [
      "child\n"
     ]
    }
   ],
   "source": [
    "age = int(input(\"Enter your age\"))\n",
    "if age < 10:\n",
    "    print(\"child\")\n",
    "else:\n",
    "    print(\"elder\")"
   ]
  },
  {
   "cell_type": "markdown",
   "id": "9aa21868-96b6-4a1f-bab1-b83a67f79728",
   "metadata": {},
   "source": [
    "### logical and operator"
   ]
  },
  {
   "cell_type": "code",
   "execution_count": 2,
   "id": "a8062795-1d8c-40ed-a9ab-e14f09de7be1",
   "metadata": {},
   "outputs": [
    {
     "data": {
      "text/plain": [
       "False"
      ]
     },
     "execution_count": 2,
     "metadata": {},
     "output_type": "execute_result"
    }
   ],
   "source": [
    "5<4 and 4<5"
   ]
  },
  {
   "cell_type": "markdown",
   "id": "de15191d-3282-4a35-8f61-07900c44dea4",
   "metadata": {},
   "source": [
    "### logical or operator "
   ]
  },
  {
   "cell_type": "code",
   "execution_count": 5,
   "id": "c1f87f06-b488-49e7-961b-2a8835f295ae",
   "metadata": {},
   "outputs": [
    {
     "name": "stdout",
     "output_type": "stream",
     "text": [
      "true\n"
     ]
    }
   ],
   "source": [
    "if 4 < 5 or 3 <4:\n",
    "    print(\"true\")"
   ]
  },
  {
   "cell_type": "markdown",
   "id": "288fa500-734a-4f43-ab71-2d3363a468f9",
   "metadata": {},
   "source": [
    "### logical not operator "
   ]
  },
  {
   "cell_type": "code",
   "execution_count": 5,
   "id": "c6630c25-52ed-4b22-bcc3-96980feb29e8",
   "metadata": {},
   "outputs": [
    {
     "data": {
      "text/plain": [
       "False"
      ]
     },
     "execution_count": 5,
     "metadata": {},
     "output_type": "execute_result"
    }
   ],
   "source": [
    "not(True)"
   ]
  },
  {
   "cell_type": "code",
   "execution_count": 8,
   "id": "3e3ad4b5-3050-4ec4-9453-b6fb4d94d38f",
   "metadata": {},
   "outputs": [
    {
     "data": {
      "text/plain": [
       "False"
      ]
     },
     "execution_count": 8,
     "metadata": {},
     "output_type": "execute_result"
    }
   ],
   "source": [
    "not(33 == 33)"
   ]
  },
  {
   "cell_type": "markdown",
   "id": "afd9a239-4747-49fb-9016-a1dbc17ed1d5",
   "metadata": {},
   "source": [
    "### add operator"
   ]
  },
  {
   "cell_type": "code",
   "execution_count": 7,
   "id": "c5d1e041-3f41-439c-8b26-0eac1445ee82",
   "metadata": {},
   "outputs": [
    {
     "data": {
      "text/plain": [
       "4"
      ]
     },
     "execution_count": 7,
     "metadata": {},
     "output_type": "execute_result"
    }
   ],
   "source": [
    "2 + 2"
   ]
  },
  {
   "cell_type": "markdown",
   "id": "0c3112c8-478a-4905-a3d6-30010cdde288",
   "metadata": {},
   "source": [
    "### minus operator"
   ]
  },
  {
   "cell_type": "code",
   "execution_count": 9,
   "id": "17140f16-1f8d-4d3b-963d-108ebb7cfd97",
   "metadata": {},
   "outputs": [
    {
     "data": {
      "text/plain": [
       "2"
      ]
     },
     "execution_count": 9,
     "metadata": {},
     "output_type": "execute_result"
    }
   ],
   "source": [
    "4-2 "
   ]
  },
  {
   "cell_type": "markdown",
   "id": "fd792cd0-758b-43d0-8b45-e90e5802b6f1",
   "metadata": {},
   "source": [
    "### multiply operator "
   ]
  },
  {
   "cell_type": "code",
   "execution_count": 4,
   "id": "7f47b034-ea13-4c68-a1a6-8756a3dddbd6",
   "metadata": {},
   "outputs": [
    {
     "data": {
      "text/plain": [
       "6"
      ]
     },
     "execution_count": 4,
     "metadata": {},
     "output_type": "execute_result"
    }
   ],
   "source": [
    "3*2"
   ]
  },
  {
   "cell_type": "markdown",
   "id": "1e8bfead-d4cc-44f0-88c5-6536cb5f4bbe",
   "metadata": {},
   "source": [
    "### float division"
   ]
  },
  {
   "cell_type": "code",
   "execution_count": 8,
   "id": "593ad7ac-a5f2-44b2-b245-e2da646d68fc",
   "metadata": {},
   "outputs": [
    {
     "data": {
      "text/plain": [
       "2.0"
      ]
     },
     "execution_count": 8,
     "metadata": {},
     "output_type": "execute_result"
    }
   ],
   "source": [
    "4 /2 "
   ]
  },
  {
   "cell_type": "markdown",
   "id": "26ffb699-27f5-46f6-b861-03682af2f644",
   "metadata": {},
   "source": [
    "### floor division / interger division (math floor)"
   ]
  },
  {
   "cell_type": "code",
   "execution_count": 2,
   "id": "afc04e17-f5e1-40c9-ab18-7b08519e5602",
   "metadata": {},
   "outputs": [
    {
     "data": {
      "text/plain": [
       "2"
      ]
     },
     "execution_count": 2,
     "metadata": {},
     "output_type": "execute_result"
    }
   ],
   "source": [
    "5//2"
   ]
  },
  {
   "cell_type": "markdown",
   "id": "2ed9d10b-8354-4bf7-8e6b-d4f9960ae3ef",
   "metadata": {},
   "source": [
    "### power / exponent operator"
   ]
  },
  {
   "cell_type": "code",
   "execution_count": 3,
   "id": "6b18fee1-28bb-4787-ad88-fe1e01a42040",
   "metadata": {},
   "outputs": [
    {
     "data": {
      "text/plain": [
       "25"
      ]
     },
     "execution_count": 3,
     "metadata": {},
     "output_type": "execute_result"
    }
   ],
   "source": [
    "5 ** 2"
   ]
  },
  {
   "cell_type": "markdown",
   "id": "66ed09f1-94ad-42fb-8b68-00119a76253f",
   "metadata": {},
   "source": [
    "### modulus / remainder op"
   ]
  },
  {
   "cell_type": "code",
   "execution_count": 11,
   "id": "b4711943-cae9-4c2a-8630-5f3f8e64019f",
   "metadata": {},
   "outputs": [
    {
     "data": {
      "text/plain": [
       "1"
      ]
     },
     "execution_count": 11,
     "metadata": {},
     "output_type": "execute_result"
    }
   ],
   "source": [
    "16 % 3"
   ]
  },
  {
   "cell_type": "code",
   "execution_count": 1,
   "id": "65c0c2b1-8dab-4eb0-8584-56d610022350",
   "metadata": {},
   "outputs": [
    {
     "data": {
      "text/plain": [
       "2"
      ]
     },
     "execution_count": 1,
     "metadata": {},
     "output_type": "execute_result"
    }
   ],
   "source": [
    "20 % 3"
   ]
  },
  {
   "cell_type": "markdown",
   "id": "cd5ff64d-221f-4ef5-8d65-4980a396b7d2",
   "metadata": {},
   "source": [
    "## Operators precedence"
   ]
  },
  {
   "cell_type": "raw",
   "id": "a141cfd3-f634-4fa4-bfa6-6a218325d854",
   "metadata": {},
   "source": [
    "Operator                                                  Description\t\n",
    "()\t                                                      Parentheses\t\n",
    "**\t                                                      Exponentiation\t\n",
    "+x  -x  ~x\t                                              Unary plus, unary minus, and bitwise NOT\t\n",
    "*  /  //  %\t                                              Multiplication, division, floor division, and modulus\t\n",
    "+  -\t                                                  Addition and subtraction\t\n",
    "<<  >>\t                                                  Bitwise left and right shifts\t\n",
    "&\t                                                      Bitwise AND\t\n",
    "^\t                                                      Bitwise XOR\t\n",
    "|\t                                                      Bitwise OR\t\n",
    "==  !=  >  >=  <  <=  is  is not  in  not in \t          Comparisons, identity, and membership operators\t\n",
    "not\t                                                      Logical NOT\t\n",
    "and\t                                                      AND\t\n",
    "or\t                                                      OR"
   ]
  },
  {
   "cell_type": "code",
   "execution_count": null,
   "id": "7129f579-92ae-448f-9128-70c196b1e2b8",
   "metadata": {},
   "outputs": [],
   "source": []
  }
 ],
 "metadata": {
  "kernelspec": {
   "display_name": "Python 3 (ipykernel)",
   "language": "python",
   "name": "python3"
  },
  "language_info": {
   "codemirror_mode": {
    "name": "ipython",
    "version": 3
   },
   "file_extension": ".py",
   "mimetype": "text/x-python",
   "name": "python",
   "nbconvert_exporter": "python",
   "pygments_lexer": "ipython3",
   "version": "3.11.7"
  }
 },
 "nbformat": 4,
 "nbformat_minor": 5
}
