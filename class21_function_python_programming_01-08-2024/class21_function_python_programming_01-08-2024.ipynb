{
 "cells": [
  {
   "cell_type": "code",
   "execution_count": 5,
   "id": "aa104771-12f9-4dac-b2ac-6c743e9c38b9",
   "metadata": {},
   "outputs": [],
   "source": [
    "def make_album(artistName,albumTitle,noOfTracks=\"\"):\n",
    "    musicAlbum ={}\n",
    "    musicAlbum[\"artistName\"] = artistName\n",
    "    musicAlbum[\"albumTitle\"] = albumTitle\n",
    "    if noOfTracks:\n",
    "        musicAlbum[\"noOfTracks\"]=noOfTracks\n",
    "    return musicAlbum\n",
    "\n"
   ]
  },
  {
   "cell_type": "code",
   "execution_count": 6,
   "id": "01016df9-595b-47fa-8828-b73d325fea31",
   "metadata": {},
   "outputs": [
    {
     "data": {
      "text/plain": [
       "{'artistName': 'chahat fateh ali khan',\n",
       " 'albumTitle': 'bado badi',\n",
       " 'noOfTracks': 20}"
      ]
     },
     "execution_count": 6,
     "metadata": {},
     "output_type": "execute_result"
    }
   ],
   "source": [
    "make_album(\"chahat fateh ali khan\", \"bado badi\" ,20)"
   ]
  },
  {
   "cell_type": "code",
   "execution_count": 7,
   "id": "563be217-44e4-4975-8357-9eeca32643bc",
   "metadata": {},
   "outputs": [
    {
     "data": {
      "text/plain": [
       "{'artistName': 'chahat fateh ali khan', 'albumTitle': 'bado badi'}"
      ]
     },
     "execution_count": 7,
     "metadata": {},
     "output_type": "execute_result"
    }
   ],
   "source": [
    "make_album(\"chahat fateh ali khan\", \"bado badi\" )"
   ]
  },
  {
   "cell_type": "code",
   "execution_count": 13,
   "id": "8501f65b-2f3a-454f-a903-f57b7bb0b417",
   "metadata": {},
   "outputs": [],
   "source": [
    "def makeAlbum():\n",
    "    albums=[]\n",
    "    while True:\n",
    "        musicAlbum={}\n",
    "        artistName = input(\"Enter Artist name or q to quit\")\n",
    "        if artistName == \"q\":\n",
    "            break\n",
    "        albumTitle = input(\"Enter Album title\")\n",
    "        musicAlbum[\"artistName\"]= artistName\n",
    "        musicAlbum[\"albumTitle\"]= albumTitle\n",
    "        albums.append(musicAlbum)\n",
    "    return albums\n",
    "\n",
    "\n"
   ]
  },
  {
   "cell_type": "code",
   "execution_count": 14,
   "id": "ad49991e-93b8-47a8-900d-30aa51cadebc",
   "metadata": {},
   "outputs": [
    {
     "name": "stdin",
     "output_type": "stream",
     "text": [
      "Enter Artist name or q to quit Ali\n",
      "Enter Album title raza\n",
      "Enter Artist name or q to quit ali\n",
      "Enter Album title ahmed\n",
      "Enter Artist name or q to quit q\n"
     ]
    },
    {
     "data": {
      "text/plain": [
       "[{'artistName': 'Ali', 'albumTitle': 'raza'},\n",
       " {'artistName': 'ali', 'albumTitle': 'ahmed'}]"
      ]
     },
     "execution_count": 14,
     "metadata": {},
     "output_type": "execute_result"
    }
   ],
   "source": [
    "makeAlbum()"
   ]
  },
  {
   "cell_type": "markdown",
   "id": "2ff6488d-ad46-4f94-9458-c8a699d07455",
   "metadata": {},
   "source": [
    "# Arbitrary arguments"
   ]
  },
  {
   "cell_type": "code",
   "execution_count": 15,
   "id": "413cad48-4be1-45eb-ac13-133c159e13bc",
   "metadata": {},
   "outputs": [],
   "source": [
    "def add_numbers(*numbers):\n",
    "    return sum(numbers)"
   ]
  },
  {
   "cell_type": "code",
   "execution_count": 16,
   "id": "0a0823ef-1ca2-4a12-a839-ee51ab1d4ae1",
   "metadata": {},
   "outputs": [
    {
     "data": {
      "text/plain": [
       "12"
      ]
     },
     "execution_count": 16,
     "metadata": {},
     "output_type": "execute_result"
    }
   ],
   "source": [
    "add_numbers(1,2,2,3,4)"
   ]
  },
  {
   "cell_type": "code",
   "execution_count": null,
   "id": "b77fe417-dd19-4ae6-b579-9072d964233c",
   "metadata": {},
   "outputs": [],
   "source": []
  },
  {
   "cell_type": "code",
   "execution_count": null,
   "id": "029da81d-c350-4fc0-bf6c-99c7e5be1e00",
   "metadata": {},
   "outputs": [],
   "source": []
  },
  {
   "cell_type": "code",
   "execution_count": null,
   "id": "cfb235d7-a8c0-4580-a955-79b90657f68c",
   "metadata": {},
   "outputs": [],
   "source": []
  },
  {
   "cell_type": "code",
   "execution_count": null,
   "id": "9ad69504-192c-428c-be87-71bf17f88d82",
   "metadata": {},
   "outputs": [],
   "source": []
  },
  {
   "cell_type": "code",
   "execution_count": null,
   "id": "98724cf8-a456-454d-a04a-e1e83b5d7a0a",
   "metadata": {},
   "outputs": [],
   "source": []
  },
  {
   "cell_type": "code",
   "execution_count": null,
   "id": "0de55b20-eba8-4c5f-9d66-740f91c3eb76",
   "metadata": {},
   "outputs": [],
   "source": []
  },
  {
   "cell_type": "code",
   "execution_count": null,
   "id": "0aee2512-9844-45cb-9583-b64f1234c2ca",
   "metadata": {},
   "outputs": [],
   "source": []
  },
  {
   "cell_type": "code",
   "execution_count": null,
   "id": "9803692e-d5c4-491f-bf25-e5e006b34804",
   "metadata": {},
   "outputs": [],
   "source": []
  },
  {
   "cell_type": "code",
   "execution_count": null,
   "id": "2bcaae77-aa3b-4bc8-960b-9569a7b7b84b",
   "metadata": {},
   "outputs": [],
   "source": []
  },
  {
   "cell_type": "code",
   "execution_count": null,
   "id": "a0697464-b47b-4362-843b-9adb17021052",
   "metadata": {},
   "outputs": [],
   "source": []
  }
 ],
 "metadata": {
  "kernelspec": {
   "display_name": "Python 3 (ipykernel)",
   "language": "python",
   "name": "python3"
  },
  "language_info": {
   "codemirror_mode": {
    "name": "ipython",
    "version": 3
   },
   "file_extension": ".py",
   "mimetype": "text/x-python",
   "name": "python",
   "nbconvert_exporter": "python",
   "pygments_lexer": "ipython3",
   "version": "3.11.7"
  }
 },
 "nbformat": 4,
 "nbformat_minor": 5
}
