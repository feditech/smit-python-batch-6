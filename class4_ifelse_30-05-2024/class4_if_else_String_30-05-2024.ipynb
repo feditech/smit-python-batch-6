{
 "cells": [
  {
   "cell_type": "markdown",
   "id": "fccedd39-618b-4de9-8d85-27a79bf5e74d",
   "metadata": {},
   "source": [
    "### if else with f formatting"
   ]
  },
  {
   "cell_type": "code",
   "execution_count": 6,
   "id": "c5667c6e-8638-4a5b-b495-46865d44b635",
   "metadata": {},
   "outputs": [
    {
     "name": "stdin",
     "output_type": "stream",
     "text": [
      "Enter purchase amount 23\n"
     ]
    },
    {
     "name": "stdout",
     "output_type": "stream",
     "text": [
      "no discount\n"
     ]
    }
   ],
   "source": [
    "purchase_amt = float(input(\"Enter purchase amount\"))\n",
    "if purchase_amt > 10000:\n",
    "                   print(f\"\"\"\n",
    "                   Purchase Amount: {purchase_amt}\n",
    "                   Discount:        {purchase_amt * 0.1}\n",
    "                   Net Amount:      {purchase_amt - purchase_amt * 0.1}\n",
    "                   \"\"\")\n",
    "else:\n",
    "    print(\"no discount\")"
   ]
  },
  {
   "cell_type": "markdown",
   "id": "b5284a8d-53ef-4696-bec8-09d4b8b22f46",
   "metadata": {},
   "source": [
    "   ######     multi values with if else (shopping)"
   ]
  },
  {
   "cell_type": "code",
   "execution_count": null,
   "id": "a9aec4d6-6c56-467a-974f-d65b68fa1df7",
   "metadata": {},
   "outputs": [],
   "source": []
  },
  {
   "cell_type": "code",
   "execution_count": 17,
   "id": "1bb6c423-b00b-4af0-a4bd-c32f4f44aa1b",
   "metadata": {},
   "outputs": [
    {
     "data": {
      "text/plain": [
       "'Fahad Sheikh'"
      ]
     },
     "execution_count": 17,
     "metadata": {},
     "output_type": "execute_result"
    }
   ],
   "source": [
    "\"fahad sheikh\".title()"
   ]
  },
  {
   "cell_type": "code",
   "execution_count": null,
   "id": "9b308683-adb6-4d7c-8394-2dd9228692d9",
   "metadata": {},
   "outputs": [],
   "source": []
  },
  {
   "cell_type": "code",
   "execution_count": null,
   "id": "beca9947-6eef-43db-b589-eb9ca204575d",
   "metadata": {},
   "outputs": [],
   "source": []
  },
  {
   "cell_type": "markdown",
   "id": "25fa499c-f8bf-4982-94ff-08d1c3c2334c",
   "metadata": {},
   "source": [
    "### String class methods"
   ]
  },
  {
   "cell_type": "code",
   "execution_count": null,
   "id": "1e163133-31b0-4eb8-8242-f455d55a0102",
   "metadata": {},
   "outputs": [],
   "source": []
  },
  {
   "cell_type": "code",
   "execution_count": null,
   "id": "8366503d-7d0a-4b54-8264-045a9892ecad",
   "metadata": {},
   "outputs": [],
   "source": []
  },
  {
   "cell_type": "code",
   "execution_count": null,
   "id": "af2a37c5-a2bb-4ac6-a485-f9269fef1b30",
   "metadata": {},
   "outputs": [],
   "source": []
  }
 ],
 "metadata": {
  "kernelspec": {
   "display_name": "Python 3 (ipykernel)",
   "language": "python",
   "name": "python3"
  },
  "language_info": {
   "codemirror_mode": {
    "name": "ipython",
    "version": 3
   },
   "file_extension": ".py",
   "mimetype": "text/x-python",
   "name": "python",
   "nbconvert_exporter": "python",
   "pygments_lexer": "ipython3",
   "version": "3.11.7"
  }
 },
 "nbformat": 4,
 "nbformat_minor": 5
}
