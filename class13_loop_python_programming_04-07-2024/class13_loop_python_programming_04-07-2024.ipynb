{
 "cells": [
  {
   "cell_type": "code",
   "execution_count": 1,
   "id": "7fc0283b-5268-43f5-a2df-bbcf5c9b4307",
   "metadata": {},
   "outputs": [
    {
     "name": "stdout",
     "output_type": "stream",
     "text": [
      "Dog would make a great pet\n",
      "Cat would make a great pet\n",
      "Rabbit would make a great pet\n"
     ]
    }
   ],
   "source": [
    "animals = [\"Dog\",\"Cat\",\"Rabbit\"]\n",
    "for animal in animals:\n",
    "    print(f\"{animal} would make a great pet\")"
   ]
  },
  {
   "cell_type": "markdown",
   "id": "d8663816-68f3-4d57-8618-7976bcb03713",
   "metadata": {},
   "source": [
    "### Continue & break "
   ]
  },
  {
   "cell_type": "code",
   "execution_count": 2,
   "id": "34ff3f94-aa21-423c-bb10-cd09dc110358",
   "metadata": {},
   "outputs": [
    {
     "name": "stdout",
     "output_type": "stream",
     "text": [
      "0\n",
      "1\n",
      "2\n",
      "3\n",
      "4\n",
      "6\n",
      "7\n",
      "8\n",
      "9\n"
     ]
    }
   ],
   "source": [
    "for a in range(10):\n",
    "    if(a==5):\n",
    "        continue\n",
    "    else:\n",
    "        print(a)"
   ]
  },
  {
   "cell_type": "code",
   "execution_count": 3,
   "id": "680ddbe9-8ab8-496e-b8c3-d22a8d82be00",
   "metadata": {},
   "outputs": [
    {
     "name": "stdout",
     "output_type": "stream",
     "text": [
      "0\n",
      "1\n",
      "2\n",
      "3\n",
      "4\n"
     ]
    }
   ],
   "source": [
    "for a in range(10):\n",
    "    if(a==5):\n",
    "        break\n",
    "    else:\n",
    "        print(a)"
   ]
  },
  {
   "cell_type": "code",
   "execution_count": 6,
   "id": "389f21b5-072a-43dc-ab3b-4dcf4b126f70",
   "metadata": {},
   "outputs": [
    {
     "name": "stdout",
     "output_type": "stream",
     "text": [
      "1\n",
      "4\n",
      "9\n",
      "16\n",
      "25\n"
     ]
    }
   ],
   "source": [
    "for a in range(1,10):\n",
    "    print(a ** 2)\n",
    "    if(a==5):\n",
    "        break"
   ]
  },
  {
   "cell_type": "code",
   "execution_count": 10,
   "id": "46ec4123-ce8f-4a93-86bf-e2b8844c6990",
   "metadata": {},
   "outputs": [
    {
     "name": "stdin",
     "output_type": "stream",
     "text": [
      "Enter guest name Hamza\n",
      "Enter guest name Raza\n",
      "Enter guest name atif\n"
     ]
    },
    {
     "name": "stdout",
     "output_type": "stream",
     "text": [
      "atif not admitted\n"
     ]
    },
    {
     "name": "stdin",
     "output_type": "stream",
     "text": [
      "Enter guest name lala\n",
      "Enter guest name uzair\n"
     ]
    },
    {
     "name": "stdout",
     "output_type": "stream",
     "text": [
      "guest list\n",
      "['hamza', 'raza', 'lala', 'uzair']\n"
     ]
    }
   ],
   "source": [
    "guests = []\n",
    "for a in range(5):\n",
    "    guest = input(\"Enter guest name\").lower()\n",
    "    if (guest == \"atif\"):\n",
    "        print(f\"{guest} not admitted\")\n",
    "        continue\n",
    "    guests.append(guest)\n",
    "print(\"guest list\")\n",
    "print(guests)"
   ]
  },
  {
   "cell_type": "code",
   "execution_count": 11,
   "id": "584dec85-0edb-451a-bc34-f6e34330a566",
   "metadata": {},
   "outputs": [
    {
     "name": "stdin",
     "output_type": "stream",
     "text": [
      "Enter a number 52\n",
      "Enter a number 55\n",
      "Enter a number 54\n",
      "Enter a number 76\n",
      "Enter a number 59\n",
      "Enter a number 80\n",
      "Enter a number 48\n"
     ]
    },
    {
     "name": "stdout",
     "output_type": "stream",
     "text": [
      "Evens: [52, 54, 76, 80]\n",
      "Odds: [55, 59]\n"
     ]
    }
   ],
   "source": [
    "evens = []\n",
    "odds =[]\n",
    "for a in range(10):\n",
    "    num  = int(input(\"Enter a number\"))\n",
    "    if(num > 100):\n",
    "        continue\n",
    "    elif(num <50):\n",
    "        break\n",
    "    elif(num % 2 ==0):\n",
    "        evens.append(num)\n",
    "    else:\n",
    "        odds.append(num)\n",
    "print(f\"Evens: {evens}\")\n",
    "print(f\"Odds: {odds}\")\n",
    "\n"
   ]
  },
  {
   "cell_type": "code",
   "execution_count": 15,
   "id": "dfade4b1-f3b5-4ef0-9795-5729dfad2895",
   "metadata": {},
   "outputs": [
    {
     "name": "stdin",
     "output_type": "stream",
     "text": [
      "Enter a para an apple a day keeps the doctor away\n"
     ]
    },
    {
     "name": "stdout",
     "output_type": "stream",
     "text": [
      "vowels = 12\n"
     ]
    }
   ],
   "source": [
    "txt = input(\"Enter a para\")\n",
    "vowels = \"aeiou\"\n",
    "count = 0\n",
    "for char in txt:\n",
    "    if char in vowels:\n",
    "        count +=1\n",
    "print(f\"vowels = {count}\")"
   ]
  },
  {
   "cell_type": "code",
   "execution_count": null,
   "id": "5632705c-5fd7-402a-b4cc-9780667b51d1",
   "metadata": {},
   "outputs": [],
   "source": [
    "para = input(\"Enter a para\").lower()\n",
    "vowels = \"aeiou\"\n",
    "count = 0\n",
    "for char in para:\n",
    "    if char in vowels:\n",
    "        count +=1\n",
    "print(f\"vowels = {count}\")"
   ]
  },
  {
   "cell_type": "code",
   "execution_count": null,
   "id": "ef65bf7e-3c5d-48c8-855b-a9ddb66a9050",
   "metadata": {},
   "outputs": [],
   "source": []
  },
  {
   "cell_type": "code",
   "execution_count": null,
   "id": "85cf7b05-f508-49e1-aec0-b8181bc8fea4",
   "metadata": {},
   "outputs": [],
   "source": []
  },
  {
   "cell_type": "code",
   "execution_count": null,
   "id": "fc10956f-b517-4ea3-9edd-8c97eb6d9fbb",
   "metadata": {},
   "outputs": [],
   "source": []
  },
  {
   "cell_type": "code",
   "execution_count": null,
   "id": "fab45780-a435-458a-af4b-a54918166721",
   "metadata": {},
   "outputs": [],
   "source": []
  },
  {
   "cell_type": "code",
   "execution_count": null,
   "id": "b7f95282-53d2-4cc5-b5d0-11698d3b1258",
   "metadata": {},
   "outputs": [],
   "source": []
  },
  {
   "cell_type": "code",
   "execution_count": null,
   "id": "39b919bb-c64b-4d0a-a914-62b1c7b58d7b",
   "metadata": {},
   "outputs": [],
   "source": []
  }
 ],
 "metadata": {
  "kernelspec": {
   "display_name": "Python 3 (ipykernel)",
   "language": "python",
   "name": "python3"
  },
  "language_info": {
   "codemirror_mode": {
    "name": "ipython",
    "version": 3
   },
   "file_extension": ".py",
   "mimetype": "text/x-python",
   "name": "python",
   "nbconvert_exporter": "python",
   "pygments_lexer": "ipython3",
   "version": "3.11.7"
  }
 },
 "nbformat": 4,
 "nbformat_minor": 5
}
