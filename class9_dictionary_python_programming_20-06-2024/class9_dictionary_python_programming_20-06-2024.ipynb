{
 "cells": [
  {
   "cell_type": "markdown",
   "id": "0038a6de-ef4f-4ae4-a6ab-df03b4a0b718",
   "metadata": {},
   "source": [
    "## Dictionary\n",
    "\n",
    "    - Dictionary is mutable (changeable)\n",
    "    - There is no index in dictionary\n",
    "    - widely used DS\n"
   ]
  },
  {
   "cell_type": "code",
   "execution_count": 1,
   "id": "fd57c35b-79de-47e5-b27e-e3ac20885ddf",
   "metadata": {},
   "outputs": [],
   "source": [
    "student = {\"name\":\"Raza\", \"email\":\"raza@gmail.com\",\"age\":22}"
   ]
  },
  {
   "cell_type": "code",
   "execution_count": 2,
   "id": "6c7f6a9b-44fe-4aff-b36e-63f1fe6afecc",
   "metadata": {},
   "outputs": [
    {
     "data": {
      "text/plain": [
       "dict_keys(['name', 'email', 'age'])"
      ]
     },
     "execution_count": 2,
     "metadata": {},
     "output_type": "execute_result"
    }
   ],
   "source": [
    "student.keys()"
   ]
  },
  {
   "cell_type": "code",
   "execution_count": 3,
   "id": "f5b18666-d8a0-4311-845d-49392fb1c7a5",
   "metadata": {},
   "outputs": [
    {
     "data": {
      "text/plain": [
       "dict_values(['Raza', 'raza@gmail.com', 22])"
      ]
     },
     "execution_count": 3,
     "metadata": {},
     "output_type": "execute_result"
    }
   ],
   "source": [
    "student.values()"
   ]
  },
  {
   "cell_type": "code",
   "execution_count": 4,
   "id": "df061bf4-3900-4eac-bd06-bab7536cae1c",
   "metadata": {},
   "outputs": [
    {
     "data": {
      "text/plain": [
       "dict_items([('name', 'Raza'), ('email', 'raza@gmail.com'), ('age', 22)])"
      ]
     },
     "execution_count": 4,
     "metadata": {},
     "output_type": "execute_result"
    }
   ],
   "source": [
    "student.items()"
   ]
  },
  {
   "cell_type": "code",
   "execution_count": 6,
   "id": "9366b838-f90d-4698-a570-00bd5e758967",
   "metadata": {},
   "outputs": [],
   "source": [
    "student[\"gender\"] = \"male\""
   ]
  },
  {
   "cell_type": "code",
   "execution_count": 7,
   "id": "d66db369-3944-4283-9021-8126a316baae",
   "metadata": {},
   "outputs": [
    {
     "data": {
      "text/plain": [
       "{'name': 'Raza', 'email': 'raza@gmail.com', 'age': 22, 'gender': 'male'}"
      ]
     },
     "execution_count": 7,
     "metadata": {},
     "output_type": "execute_result"
    }
   ],
   "source": [
    "student"
   ]
  },
  {
   "cell_type": "code",
   "execution_count": 8,
   "id": "cca7084f-8ad5-415a-b782-41ce001ec473",
   "metadata": {},
   "outputs": [],
   "source": [
    "student.update({\"father\":\"Shahzad\",\"religion\":\"Islam\"})"
   ]
  },
  {
   "cell_type": "code",
   "execution_count": 9,
   "id": "8da9bbc8-672b-4c21-b5a6-e71751d4258f",
   "metadata": {},
   "outputs": [
    {
     "data": {
      "text/plain": [
       "{'name': 'Raza',\n",
       " 'email': 'raza@gmail.com',\n",
       " 'age': 22,\n",
       " 'gender': 'male',\n",
       " 'father': 'Shahzad',\n",
       " 'religion': 'Islam'}"
      ]
     },
     "execution_count": 9,
     "metadata": {},
     "output_type": "execute_result"
    }
   ],
   "source": [
    "student"
   ]
  },
  {
   "cell_type": "code",
   "execution_count": 10,
   "id": "423a3eb9-2080-47a7-a4aa-f9e94ff3fff7",
   "metadata": {},
   "outputs": [
    {
     "data": {
      "text/plain": [
       "'Raza'"
      ]
     },
     "execution_count": 10,
     "metadata": {},
     "output_type": "execute_result"
    }
   ],
   "source": [
    "student.get(\"name\")"
   ]
  },
  {
   "cell_type": "code",
   "execution_count": 11,
   "id": "9b913aa7-e099-47c3-be12-391db2d90607",
   "metadata": {},
   "outputs": [
    {
     "data": {
      "text/plain": [
       "'Raza'"
      ]
     },
     "execution_count": 11,
     "metadata": {},
     "output_type": "execute_result"
    }
   ],
   "source": [
    "student[\"name\"]"
   ]
  },
  {
   "cell_type": "markdown",
   "id": "cfd0d40b-055a-4a64-b81a-41b22cbf0444",
   "metadata": {},
   "source": [
    "## removing item from dictionary\n",
    "\n",
    "    - del\n",
    "    - pop\n",
    "    - popitem"
   ]
  },
  {
   "cell_type": "code",
   "execution_count": 12,
   "id": "2d23f652-fb4d-4cec-9a85-1304910436ae",
   "metadata": {},
   "outputs": [],
   "source": [
    "del student[\"religion\"]"
   ]
  },
  {
   "cell_type": "code",
   "execution_count": 13,
   "id": "2b8e3627-25cb-4067-bed8-a30d6212cd93",
   "metadata": {},
   "outputs": [
    {
     "data": {
      "text/plain": [
       "{'name': 'Raza',\n",
       " 'email': 'raza@gmail.com',\n",
       " 'age': 22,\n",
       " 'gender': 'male',\n",
       " 'father': 'Shahzad'}"
      ]
     },
     "execution_count": 13,
     "metadata": {},
     "output_type": "execute_result"
    }
   ],
   "source": [
    "student"
   ]
  },
  {
   "cell_type": "code",
   "execution_count": 15,
   "id": "a529a575-58e0-4597-ac7b-be125e46b47a",
   "metadata": {},
   "outputs": [
    {
     "data": {
      "text/plain": [
       "{'name': 'Raza', 'email': 'raza@gmail.com', 'age': 22, 'father': 'Shahzad'}"
      ]
     },
     "execution_count": 15,
     "metadata": {},
     "output_type": "execute_result"
    }
   ],
   "source": [
    "student"
   ]
  },
  {
   "cell_type": "code",
   "execution_count": 14,
   "id": "e4b708df-ac9b-4a0d-8258-4e378eb2713e",
   "metadata": {},
   "outputs": [
    {
     "data": {
      "text/plain": [
       "'male'"
      ]
     },
     "execution_count": 14,
     "metadata": {},
     "output_type": "execute_result"
    }
   ],
   "source": [
    "student.pop(\"gender\")"
   ]
  },
  {
   "cell_type": "code",
   "execution_count": 16,
   "id": "d4026e84-87f6-4f78-bdb1-14478c31ad68",
   "metadata": {},
   "outputs": [
    {
     "data": {
      "text/plain": [
       "('father', 'Shahzad')"
      ]
     },
     "execution_count": 16,
     "metadata": {},
     "output_type": "execute_result"
    }
   ],
   "source": [
    "student.popitem()"
   ]
  },
  {
   "cell_type": "code",
   "execution_count": null,
   "id": "d5edd45b-b754-4bd1-9959-24082cb2e2f2",
   "metadata": {},
   "outputs": [],
   "source": []
  },
  {
   "cell_type": "code",
   "execution_count": null,
   "id": "291bfddc-a991-4be8-b973-65f2c5f658a3",
   "metadata": {},
   "outputs": [],
   "source": []
  },
  {
   "cell_type": "code",
   "execution_count": null,
   "id": "3414a951-87ff-4b45-ab22-d1a0b5c74c49",
   "metadata": {},
   "outputs": [],
   "source": []
  },
  {
   "cell_type": "code",
   "execution_count": null,
   "id": "8c0c319d-ca0a-470c-a755-5f9aa384d32b",
   "metadata": {},
   "outputs": [],
   "source": []
  },
  {
   "cell_type": "code",
   "execution_count": null,
   "id": "3455e38c-ce96-4c0c-a259-5d8670e92fca",
   "metadata": {},
   "outputs": [],
   "source": []
  },
  {
   "cell_type": "code",
   "execution_count": null,
   "id": "8050188b-9dba-48da-b4fa-4786d05f1b1f",
   "metadata": {},
   "outputs": [],
   "source": []
  },
  {
   "cell_type": "code",
   "execution_count": null,
   "id": "955b87f0-10f9-4ca9-8492-9cfdcbb781cc",
   "metadata": {},
   "outputs": [],
   "source": []
  },
  {
   "cell_type": "code",
   "execution_count": null,
   "id": "60bb3e44-a7bc-4212-8239-b134068bcdd2",
   "metadata": {},
   "outputs": [],
   "source": []
  }
 ],
 "metadata": {
  "kernelspec": {
   "display_name": "Python 3 (ipykernel)",
   "language": "python",
   "name": "python3"
  },
  "language_info": {
   "codemirror_mode": {
    "name": "ipython",
    "version": 3
   },
   "file_extension": ".py",
   "mimetype": "text/x-python",
   "name": "python",
   "nbconvert_exporter": "python",
   "pygments_lexer": "ipython3",
   "version": "3.11.7"
  }
 },
 "nbformat": 4,
 "nbformat_minor": 5
}
